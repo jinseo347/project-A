{
  "nbformat": 4,
  "nbformat_minor": 0,
  "metadata": {
    "colab": {
      "private_outputs": true,
      "provenance": [],
      "collapsed_sections": [
        "oKzbX5399R-6",
        "yfyJGnG-9VoH",
        "AyBxv9v_4Ka3",
        "zCHrmAbBWnfi",
        "GiHRjJXAR24C",
        "Q6CBNf22gyeq",
        "SZqkS5sOmFle",
        "2xPcKZrc14Ro",
        "EftBvomv1_J-"
      ],
      "authorship_tag": "ABX9TyO3B5kyJImM/C58UI8MwOsr",
      "include_colab_link": true
    },
    "kernelspec": {
      "name": "python3",
      "display_name": "Python 3"
    },
    "language_info": {
      "name": "python"
    }
  },
  "cells": [
    {
      "cell_type": "markdown",
      "metadata": {
        "id": "view-in-github",
        "colab_type": "text"
      },
      "source": [
        "<a href=\"https://colab.research.google.com/github/jinseo347/project-A/blob/main/Project_1.ipynb\" target=\"_parent\"><img src=\"https://colab.research.google.com/assets/colab-badge.svg\" alt=\"Open In Colab\"/></a>"
      ]
    },
    {
      "cell_type": "markdown",
      "source": [
        "# import"
      ],
      "metadata": {
        "id": "oKzbX5399R-6"
      }
    },
    {
      "cell_type": "code",
      "execution_count": null,
      "metadata": {
        "id": "4eaPZgDSgG7A"
      },
      "outputs": [],
      "source": [
        "# !sudo apt-get install -y fonts-nanum\n",
        "# !sudo fc-cache -fv\n",
        "# !rm ~/.cache/matplotlib -rf"
      ]
    },
    {
      "cell_type": "code",
      "source": [
        "! pip install klib"
      ],
      "metadata": {
        "id": "RpEgRhaP9Kp5"
      },
      "execution_count": null,
      "outputs": []
    },
    {
      "cell_type": "code",
      "source": [
        "# ! pip install --upgrade pandas"
      ],
      "metadata": {
        "id": "R5gjJ8iLBFYv"
      },
      "execution_count": null,
      "outputs": []
    },
    {
      "cell_type": "code",
      "source": [
        "import pandas as pd\n",
        "import numpy as np\n",
        "\n",
        "# Visualization\n",
        "import matplotlib.pylab as plt\n",
        "from matplotlib import font_manager, rc\n",
        "import seaborn as sns\n",
        "%matplotlib inline\n",
        "\n",
        "# EDA\n",
        "import klib\n",
        "\n",
        "# Preprocessing & Feature Engineering\n",
        "from sklearn.model_selection import train_test_split\n",
        "from sklearn.preprocessing import MinMaxScaler\n",
        "from sklearn.impute import SimpleImputer \n",
        "from sklearn.preprocessing import StandardScaler\n",
        "from sklearn.preprocessing import MinMaxScaler\n",
        "# from sklearn.preprocessing import PowerTransformer\n",
        "# from sklearn.feature_selection import SelectPercentile\n",
        "\n",
        "# Hyperparameter Optimization\n",
        "from sklearn.model_selection import GridSearchCV\n",
        "from sklearn.model_selection import RandomizedSearchCV\n",
        "\n",
        "# Modeling\n",
        "from sklearn.dummy import DummyClassifier\n",
        "from sklearn.linear_model import LogisticRegression\n",
        "from sklearn.neighbors import KNeighborsClassifier\n",
        "from sklearn.ensemble import RandomForestClassifier\n",
        "from sklearn.neural_network import MLPClassifier\n",
        "from sklearn.tree import DecisionTreeClassifier\n",
        "from sklearn.ensemble import GradientBoostingClassifier\n",
        "from sklearn.ensemble import AdaBoostClassifier\n",
        "from lightgbm import LGBMClassifier\n",
        "from xgboost import XGBClassifier\n",
        "from sklearn.svm import SVC\n",
        "from sklearn.ensemble import VotingClassifier\n",
        "from sklearn.ensemble import StackingClassifier\n",
        "from sklearn.base import ClassifierMixin\n",
        "\n",
        "# Evaluation\n",
        "from sklearn.metrics import roc_auc_score\n",
        "from sklearn.metrics import accuracy_score\n",
        "from sklearn.model_selection import cross_val_score\n",
        "\n",
        "# Utility\n",
        "import os\n",
        "import time\n",
        "import random\n",
        "import warnings; warnings.filterwarnings(\"ignore\")\n",
        "from IPython.display import Image\n",
        "import pickle\n",
        "from tqdm import tqdm\n",
        "import platform\n",
        "from itertools import combinations\n",
        "from scipy.stats.mstats import gmean\n",
        "\n",
        "path = \"c:/Windows/Fonts/malgun.ttf\"\n",
        "if platform.system() == 'Darwin':\n",
        "    rc('font', family='AppleGothic')\n",
        "elif platform.system() == 'Windows':\n",
        "    font_name = font_manager.FontProperties(fname=path).get_name()\n",
        "    rc('font', family=font_name)\n",
        "else:\n",
        "    print('Unknown system...')\n",
        "rc('axes', unicode_minus=False)  "
      ],
      "metadata": {
        "id": "Bu_pT0Jo7MqN"
      },
      "execution_count": null,
      "outputs": []
    },
    {
      "cell_type": "code",
      "source": [
        "plt.rc('font', family='NanumBarunGothic') "
      ],
      "metadata": {
        "id": "nLZzogEZe98A"
      },
      "execution_count": null,
      "outputs": []
    },
    {
      "cell_type": "code",
      "source": [
        "from sklearn import metrics\n",
        "from sklearn.metrics import classification_report"
      ],
      "metadata": {
        "id": "2SI1N1o3ZAOw"
      },
      "execution_count": null,
      "outputs": []
    },
    {
      "cell_type": "code",
      "source": [
        "# import warnings\n",
        "# warnings.filterwarnings('ignore')\n",
        "\n",
        "# import numpy as np\n",
        "# import pandas as pd \n",
        "\n",
        "# import seaborn as sns\n",
        "# import matplotlib.pyplot as plt\n",
        "# import matplotlib.font_manager as fm\n",
        "# plt.rc('font', family='NanumBarunGothic') "
      ],
      "metadata": {
        "id": "aGh35QbQgXnW"
      },
      "execution_count": null,
      "outputs": []
    },
    {
      "cell_type": "markdown",
      "source": [
        "# data"
      ],
      "metadata": {
        "id": "yfyJGnG-9VoH"
      }
    },
    {
      "cell_type": "code",
      "source": [
        "df = pd.read_excel('/content/credit_card_pay.xlsx')"
      ],
      "metadata": {
        "id": "8fVW_6JlggoE"
      },
      "execution_count": null,
      "outputs": []
    },
    {
      "cell_type": "code",
      "source": [
        "# klib.dist_plot(df)"
      ],
      "metadata": {
        "id": "EpZSybsK8zY9"
      },
      "execution_count": null,
      "outputs": []
    },
    {
      "cell_type": "code",
      "source": [
        "klib.corr_plot(df, target='default payment next month')\n",
        "klib.corr_plot(df, annot=False, figsize=(15,12))\n",
        "klib.corr_plot(df, split='high', annot=False, figsize=(15,12))"
      ],
      "metadata": {
        "id": "PvAsZ4h9-hHw"
      },
      "execution_count": null,
      "outputs": []
    },
    {
      "cell_type": "markdown",
      "source": [
        "# origin_df 모델링\n"
      ],
      "metadata": {
        "id": "AyBxv9v_4Ka3"
      }
    },
    {
      "cell_type": "code",
      "source": [
        "train = df.drop(['ID', 'default payment next month'], axis=1)\n",
        "test = df['default payment next month']"
      ],
      "metadata": {
        "id": "mDN8hGEN4Uop"
      },
      "execution_count": null,
      "outputs": []
    },
    {
      "cell_type": "code",
      "source": [
        "train.shape , test.shape"
      ],
      "metadata": {
        "id": "DARwxbll4Ka4"
      },
      "execution_count": null,
      "outputs": []
    },
    {
      "cell_type": "code",
      "source": [
        "from sklearn.model_selection import train_test_split\n",
        "X_train, X_test, y_train, y_test = train_test_split(train, \n",
        "                                                    test, \n",
        "                                                    test_size = 0.2)"
      ],
      "metadata": {
        "id": "WYGYxQzd4Ka4"
      },
      "execution_count": null,
      "outputs": []
    },
    {
      "cell_type": "code",
      "source": [
        "clfs = [\n",
        "    (\n",
        "        KNeighborsClassifier(),              # 사용하려는 모델\n",
        "        {'n_neighbors': [3,5,7,9,11],        # 최적화하려는 하이퍼파라미터\n",
        "         'weights': ['uniform','distance']}\n",
        "    ),\n",
        "    (\n",
        "        MLPClassifier(random_state=0),\n",
        "        {'batch_size': ['auto', 32, 64, 128],\n",
        "         'learning_rate' : ['constant', 'adaptive'],\n",
        "         'activation': ['tanh', 'relu'],\n",
        "         'solver': ['sgd', 'adam']}\n",
        "    ),\n",
        "    (\n",
        "        LogisticRegression(random_state=0),  \n",
        "        {'C': np.arange(0.1, 1.1, 0.1),      \n",
        "         'penalty': ['l1','l2']}\n",
        "    ),\n",
        "    (\n",
        "        RandomForestClassifier(random_state=0),\n",
        "        {'n_estimators': [100,200,300],\n",
        "         'max_depth': [None,3,4,5],}\n",
        "        # 'max_features': (np.arange(0.5, 1.0, 0.1)*X_train.shape[1]).astype(int)}\n",
        "    ),\n",
        "    (\n",
        "        GradientBoostingClassifier(random_state=0),\n",
        "        {'loss' : [\"deviance\"],\n",
        "         'n_estimators' : [100],\n",
        "         'learning_rate': [0.1, 0.05, 0.01],\n",
        "         'max_depth': [4],\n",
        "         'min_samples_leaf': [100,150],\n",
        "         'max_features': [0.3, 0.1]}\n",
        "        # 'max_features': (np.arange(0.5, 1.0, 0.1)*X_train.shape[1]).astype(int)}\n",
        "    ),\n",
        "    (\n",
        "        AdaBoostClassifier(random_state=0),\n",
        "        {'n_estimators': [100, 200, 300],\n",
        "         'learning_rate': [1, 0.1, 0.01]}\n",
        "    ), \n",
        "    (\n",
        "        LGBMClassifier(random_state=0),\n",
        "        {'n_estimators': [100, 200, 300],\n",
        "         'learning_rate': [1, 0.1, 0.01],\n",
        "          'max_depth': [None,3,4,5]}\n",
        "    ),\n",
        "     (\n",
        "        XGBClassifier(random_state=0),\n",
        "        {'min_child_weight' : [1],\n",
        "         'n_estimators' : [250],\n",
        "         'learning_rate': [0.07],\n",
        "         'max_depth': [3, 4],\n",
        "         'reg_alpha': [0,0.01]}\n",
        "    )\n",
        "]\n",
        "\n",
        "clfs_tuned = []  # 튜닝된 모델을 저장\n",
        "for clf, param_grid in tqdm(clfs):\n",
        "    start = time.time()\n",
        "    rand_search = RandomizedSearchCV(clf, param_grid, n_iter=5, scoring='roc_auc', \n",
        "                                     cv=3, random_state=0, n_jobs=-1)\n",
        "    rand_search.fit(X_train, y_train)\n",
        "    clf_name = type(clf).__name__\n",
        "    clf_score = rand_search.score(X_test, y_test)\n",
        "    print('{:30s} {:30f} {:.1f}'.format(clf_name, clf_score, time.time() - start))\n",
        "    print('최적 하이퍼 파라미터: ', rand_search.best_params_)\n",
        "    print('최고 예측 정확도: {:.4f}'.format(rand_search.best_score_))\n",
        "    clfs_tuned.append((clf_name, rand_search, clf_score))"
      ],
      "metadata": {
        "id": "waHb-e1kMjO2"
      },
      "execution_count": null,
      "outputs": []
    },
    {
      "cell_type": "code",
      "source": [
        "scaler = StandardScaler()\n",
        "scaler.fit(X_train)\n",
        "\n",
        "X_train_scaled = scaler.transform(X_train)\n",
        "X_test_scaled = scaler.transform(X_test)"
      ],
      "metadata": {
        "id": "DE9uhRrMQa9c"
      },
      "execution_count": null,
      "outputs": []
    },
    {
      "cell_type": "code",
      "source": [
        "scaled_clfs_tuned = []  # 튜닝된 모델을 저장\n",
        "for clf, param_grid in tqdm(clfs):\n",
        "    start = time.time()\n",
        "    rand_search = RandomizedSearchCV(clf, param_grid, n_iter=5, scoring='roc_auc', \n",
        "                                     cv=3, random_state=0, n_jobs=-1)\n",
        "    rand_search.fit(X_train, y_train)\n",
        "    clf_name = type(clf).__name__\n",
        "    clf_score = rand_search.score(X_test_scaled, y_test)\n",
        "    print('{:30s} {:30f} {:.1f}'.format(clf_name, clf_score, time.time() - start))\n",
        "    print('최적 하이퍼 파라미터: ', rand_search.best_params_)\n",
        "    print('최고 예측 정확도: {:.4f}'.format(rand_search.best_score_))\n",
        "    scaled_clfs_tuned.append((clf_name, rand_search, clf_score))"
      ],
      "metadata": {
        "id": "Dl2GAL0kTMCO"
      },
      "execution_count": null,
      "outputs": []
    },
    {
      "cell_type": "code",
      "source": [
        "klib.corr_plot(X_train, target=y_train)\n",
        "klib.corr_plot(X_train, target=y_train, annot=False, figsize=(15,12))\n",
        "klib.corr_plot(X_train, target=y_train, split='high', annot=False, figsize=(15,12))"
      ],
      "metadata": {
        "id": "GpstLfsPQoA-"
      },
      "execution_count": null,
      "outputs": []
    },
    {
      "cell_type": "code",
      "source": [
        "print(X_train.shape)\n",
        "print(y_train.shape)\n",
        "\n",
        "print(X_test.shape)\n",
        "print(y_test.shape)"
      ],
      "metadata": {
        "id": "1Z7p7Syw4Ka4"
      },
      "execution_count": null,
      "outputs": []
    },
    {
      "cell_type": "code",
      "source": [
        "X_train.isnull().sum()"
      ],
      "metadata": {
        "id": "vnNOllqp4Ka5"
      },
      "execution_count": null,
      "outputs": []
    },
    {
      "cell_type": "code",
      "source": [
        "# origin data XGBClassifier모델\n",
        "# 100%|██████████| 8/8 [07:36<00:00, 57.08s/it]XGBClassifier                                        0.789065 81.5\n",
        "# 최적 하이퍼 파라미터:  {'reg_alpha': 0, 'n_estimators': 250, 'min_child_weight': 1, 'max_depth': 3, 'learning_rate': 0.07}\n",
        "# 최고 예측 정확도: 0.7793\n",
        "\n",
        "XGBC = XGBClassifier(reg_alpha=0, n_estimators=250, min_child_weight=1,\n",
        "                     max_depth=3, learning_rate=0.07, random_state=42)\n",
        "XGBC.fit(X_train, y_train)\n",
        "\n",
        "# ▶ 예측\n",
        "y_pred_train = XGBC.predict(X_train)\n",
        "y_pred_test = XGBC.predict(X_test)\n",
        "\n",
        "print(classification_report(y_train, y_pred_train))\n",
        "print(classification_report(y_test, y_pred_test))"
      ],
      "metadata": {
        "id": "X6d_N3LO4Ka5"
      },
      "execution_count": null,
      "outputs": []
    },
    {
      "cell_type": "code",
      "source": [
        "# scaled data AdaBoostClassifier모델\n",
        "#  75%|███████▌  | 6/8 [05:44<02:14, 67.26s/it]AdaBoostClassifier                                   0.740279 114.1\n",
        "# 최적 하이퍼 파라미터:  {'n_estimators': 200, 'learning_rate': 0.1}\n",
        "\n",
        "abc = AdaBoostClassifier(n_estimators=200, learning_rate=0.1, random_state=42)\n",
        "abc.fit(X_train_scaled, y_train)\n",
        "\n",
        "# ▶ 예측\n",
        "y_pred_train = abc.predict(X_train_scaled)\n",
        "y_pred_test = abc.predict(X_test_scaled)\n",
        "\n",
        "print(classification_report(y_train, y_pred_train))\n",
        "print(classification_report(y_test, y_pred_test))"
      ],
      "metadata": {
        "id": "-pWY2vyEYvKp"
      },
      "execution_count": null,
      "outputs": []
    },
    {
      "cell_type": "code",
      "source": [
        "# origin data RandomForestClassifier모델\n",
        "rfc = RandomForestClassifier(n_estimators=200, max_depth=5, random_state=42)\n",
        "rfc.fit(X_train, y_train)\n",
        "\n",
        "# ▶ 예측\n",
        "y_pred_train = rfc.predict(X_train)\n",
        "y_pred_test = rfc.predict(X_test)\n",
        "\n",
        "print(classification_report(y_train, y_pred_train))\n",
        "print(classification_report(y_test, y_pred_test))"
      ],
      "metadata": {
        "id": "AU1c-L3JZ4ja"
      },
      "execution_count": null,
      "outputs": []
    },
    {
      "cell_type": "code",
      "source": [
        "# scaled data RandomForestClassifier모델\n",
        "scaled_rfc = RandomForestClassifier(n_estimators=200, max_depth=5, random_state=42)\n",
        "scaled_rfc.fit(X_train_scaled, y_train)\n",
        "\n",
        "# ▶ 예측\n",
        "y_pred_train = scaled_rfc.predict(X_train_scaled)\n",
        "y_pred_test = scaled_rfc.predict(X_test_scaled)\n",
        "\n",
        "print(classification_report(y_train, y_pred_train))\n",
        "print(classification_report(y_test, y_pred_test))"
      ],
      "metadata": {
        "id": "sj73eG7-aJXW"
      },
      "execution_count": null,
      "outputs": []
    },
    {
      "cell_type": "code",
      "source": [
        "ftr_importances_values = scaled_rfc.feature_importances_\n",
        "ftr_importances = pd.Series(ftr_importances_values, index = X_train.columns)\n",
        "ftr_top20 = ftr_importances.sort_values(ascending=False)[:10]\n",
        "\n",
        "plt.figure(figsize=(8,6))\n",
        "plt.title('scaled_RandomForestClassifier model Feature Importances')\n",
        "sns.barplot(x=ftr_top20, y=ftr_top20.index, palette=\"pastel\")\n",
        "plt.rc('xtick', labelsize=5)\n",
        "plt.show()"
      ],
      "metadata": {
        "id": "iPZIhXo4cqZ2"
      },
      "execution_count": null,
      "outputs": []
    },
    {
      "cell_type": "code",
      "source": [
        "ftr_importances_values = rfc.feature_importances_\n",
        "ftr_importances = pd.Series(ftr_importances_values, index = X_train.columns)\n",
        "ftr_top20 = ftr_importances.sort_values(ascending=False)[:10]\n",
        "\n",
        "plt.figure(figsize=(8,6))\n",
        "plt.title('RandomForestClassifier model Feature Importances')\n",
        "sns.barplot(x=ftr_top20, y=ftr_top20.index, palette=\"pastel\")\n",
        "plt.rc('xtick', labelsize=5)\n",
        "plt.show()"
      ],
      "metadata": {
        "id": "Mor8zfsg4Ka5"
      },
      "execution_count": null,
      "outputs": []
    },
    {
      "cell_type": "code",
      "source": [
        "ftr_importances_values = abc.feature_importances_\n",
        "ftr_importances = pd.Series(ftr_importances_values, index = X_train.columns)\n",
        "ftr_top20 = ftr_importances.sort_values(ascending=False)[:10]\n",
        "\n",
        "plt.figure(figsize=(8,6))\n",
        "plt.title('AdaBoostClassifier model Feature Importances')\n",
        "sns.barplot(x=ftr_top20, y=ftr_top20.index, palette=\"pastel\")\n",
        "plt.rc('xtick', labelsize=5)\n",
        "plt.show()"
      ],
      "metadata": {
        "id": "ehGNr7LOb7_p"
      },
      "execution_count": null,
      "outputs": []
    },
    {
      "cell_type": "code",
      "source": [
        "ftr_importances_values = XGBC.feature_importances_\n",
        "ftr_importances = pd.Series(ftr_importances_values, index = X_train.columns)\n",
        "ftr_top20 = ftr_importances.sort_values(ascending=False)[:10]\n",
        "\n",
        "plt.figure(figsize=(8,6))\n",
        "plt.title('XGBClassifier model Feature Importances')\n",
        "sns.barplot(x=ftr_top20, y=ftr_top20.index, palette=\"pastel\")\n",
        "plt.rc('xtick', labelsize=5)\n",
        "plt.show()"
      ],
      "metadata": {
        "id": "vovCu7cZb8r9"
      },
      "execution_count": null,
      "outputs": []
    },
    {
      "cell_type": "markdown",
      "source": [
        "# 기존 feature engineering"
      ],
      "metadata": {
        "id": "zCHrmAbBWnfi"
      }
    },
    {
      "cell_type": "markdown",
      "source": [
        "## IMIT_BAL"
      ],
      "metadata": {
        "id": "GiHRjJXAR24C"
      }
    },
    {
      "cell_type": "code",
      "source": [
        "# (1->50000 이하, 2->140000 이하, 3->240000 이하, 4->240000 이상)\n",
        "df['LIMIT_BAL_GP'] = np.where (df['LIMIT_BAL'] <= 50000, 1, \n",
        "                           np.where(df['LIMIT_BAL'] <= 140000, 2,\n",
        "                           np.where(df['LIMIT_BAL'] <= 240000, 3, 4)))\n",
        "df.LIMIT_BAL_GP.value_counts(), sorted(df.LIMIT_BAL_GP.unique()), len(df.LIMIT_BAL_GP.unique())"
      ],
      "metadata": {
        "id": "xyAXjQdYR4Vr"
      },
      "execution_count": null,
      "outputs": []
    },
    {
      "cell_type": "markdown",
      "source": [
        "### 시각화"
      ],
      "metadata": {
        "id": "OaXTIWg8X9uB"
      }
    },
    {
      "cell_type": "code",
      "source": [
        "sns.set_style('whitegrid')\n",
        "sns.countplot(x='default payment next month', hue=df['LIMIT_BAL_GP'], data=df, dodge=True, palette=\"pastel\");"
      ],
      "metadata": {
        "id": "zVtFkiQJR4i0"
      },
      "execution_count": null,
      "outputs": []
    },
    {
      "cell_type": "markdown",
      "source": [
        "## EDUCATION"
      ],
      "metadata": {
        "id": "7cbVymTuSTBV"
      }
    },
    {
      "cell_type": "code",
      "source": [
        "# (1-대학원, 2-대학교, 3-고등학교, 4-기타)\n",
        "df['EDUCATION_re'] = np.where ((0 < df['EDUCATION']) & (df['EDUCATION'] <= 3), df['EDUCATION'], 4)\n",
        "df.EDUCATION_re.value_counts(), sorted(df.EDUCATION_re.unique()), len(df.EDUCATION_re.unique())"
      ],
      "metadata": {
        "id": "_sCJlOReSUOA"
      },
      "execution_count": null,
      "outputs": []
    },
    {
      "cell_type": "markdown",
      "source": [
        "### 시각화"
      ],
      "metadata": {
        "id": "gc9PUHjudhaz"
      }
    },
    {
      "cell_type": "code",
      "source": [
        "sns.set_style('whitegrid')\n",
        "sns.countplot(x='default payment next month', hue=df['EDUCATION_re'], data=df, dodge=True, palette=\"pastel\");"
      ],
      "metadata": {
        "id": "NOgxN-ixdha0"
      },
      "execution_count": null,
      "outputs": []
    },
    {
      "cell_type": "markdown",
      "source": [
        "## MARRIAGE"
      ],
      "metadata": {
        "id": "nlrlFOPLVafN"
      }
    },
    {
      "cell_type": "code",
      "source": [
        "# (1-기혼, 2-미혼, 3-기타)\n",
        "df['MARRIAGE_re'] = np.where ((0 < df['MARRIAGE']) & (df['MARRIAGE'] <= 3), df['MARRIAGE'], 3)\n",
        "df.MARRIAGE_re.value_counts(), sorted(df.MARRIAGE_re.unique()), len(df.MARRIAGE_re.unique())"
      ],
      "metadata": {
        "id": "IbSuwGi7Vbmj"
      },
      "execution_count": null,
      "outputs": []
    },
    {
      "cell_type": "markdown",
      "source": [
        "### 시각화"
      ],
      "metadata": {
        "id": "py8iJma3dv6I"
      }
    },
    {
      "cell_type": "code",
      "source": [
        "sns.set_style('whitegrid')\n",
        "sns.countplot(x='default payment next month', hue=df['MARRIAGE_re'], data=df, dodge=True, palette=\"pastel\");"
      ],
      "metadata": {
        "id": "O5SfBvjgdv6J"
      },
      "execution_count": null,
      "outputs": []
    },
    {
      "cell_type": "markdown",
      "source": [
        "## AGE"
      ],
      "metadata": {
        "id": "KnMKU0IOW_f0"
      }
    },
    {
      "cell_type": "code",
      "source": [
        "# (1-20대, 2-30대, 3-55세이하, 4-55세이상)\n",
        "\n",
        "df['AGE_GP'] = np.where (df['AGE'] <= 30, 1, \n",
        "                           np.where(df['AGE'] <= 40, 2,\n",
        "                           np.where(df['AGE'] <= 55, 3, 4)))\n",
        "df.AGE_GP.value_counts(), sorted(df.AGE_GP.unique()), len(df.AGE_GP.unique())"
      ],
      "metadata": {
        "id": "UniWWCs2XBP1"
      },
      "execution_count": null,
      "outputs": []
    },
    {
      "cell_type": "code",
      "source": [
        "df['AGE'].describe()"
      ],
      "metadata": {
        "id": "LfNyn0XAXR-6"
      },
      "execution_count": null,
      "outputs": []
    },
    {
      "cell_type": "code",
      "source": [
        "df['AGE_GP_Q'] = np.where (df['AGE'] <= 28, 1, \n",
        "                           np.where(df['AGE'] <= 34, 2,\n",
        "                           np.where(df['AGE'] <= 41, 3, 4)))\n",
        "df.AGE_GP_Q.value_counts(), sorted(df.AGE_GP_Q.unique()), len(df.AGE_GP_Q.unique())"
      ],
      "metadata": {
        "id": "PHUMC1j2XdYC"
      },
      "execution_count": null,
      "outputs": []
    },
    {
      "cell_type": "markdown",
      "source": [
        "### 시각화"
      ],
      "metadata": {
        "id": "UujZsrC3dwpX"
      }
    },
    {
      "cell_type": "code",
      "source": [
        "sns.set_style('whitegrid')\n",
        "sns.countplot(x='default payment next month', hue=df['AGE_GP'], data=df, dodge=True, palette=\"pastel\");"
      ],
      "metadata": {
        "id": "nt9_a5-zdwpY"
      },
      "execution_count": null,
      "outputs": []
    },
    {
      "cell_type": "code",
      "source": [
        "sns.countplot(x='default payment next month', hue=df['AGE_GP_Q'], data=df, dodge=True, palette=\"pastel\");"
      ],
      "metadata": {
        "id": "2hb7-CTFeHOi"
      },
      "execution_count": null,
      "outputs": []
    },
    {
      "cell_type": "markdown",
      "source": [
        "# orin Corr()"
      ],
      "metadata": {
        "id": "Q6CBNf22gyeq"
      }
    },
    {
      "cell_type": "code",
      "source": [
        "col_name = df.columns\n",
        "df_corr_li = []\n",
        "for idx in range(len(col_name)):\n",
        "  df_corr_li.append(df[col_name[idx]].corr(df['default payment next month']))\n",
        "\n",
        "  # print(name, df[name].corr(df['default payment next month'])\n",
        "df_corr = pd.DataFrame(df_corr_li, col_name)"
      ],
      "metadata": {
        "id": "dJIV8Ws8g4g8"
      },
      "execution_count": null,
      "outputs": []
    },
    {
      "cell_type": "code",
      "source": [
        "df_corr.columns = ['corr']"
      ],
      "metadata": {
        "id": "y-rwWZtOjIuJ"
      },
      "execution_count": null,
      "outputs": []
    },
    {
      "cell_type": "code",
      "source": [
        "df_corr['abs_corr'] = abs(df_corr['corr'])"
      ],
      "metadata": {
        "id": "Mo5v1Rpxj_I9"
      },
      "execution_count": null,
      "outputs": []
    },
    {
      "cell_type": "code",
      "source": [
        "df_corr.sort_values(by='abs_corr', ascending=False)"
      ],
      "metadata": {
        "id": "cDODJ5t-i2Ab"
      },
      "execution_count": null,
      "outputs": []
    },
    {
      "cell_type": "markdown",
      "source": [
        "# New Feature"
      ],
      "metadata": {
        "id": "glk3PFsxd1Mr"
      }
    },
    {
      "cell_type": "markdown",
      "source": [
        "## 0_count\n",
        "\n",
        "청구 금액이 0원인 달의 수 \n",
        "\n",
        "가설 = 카드를 사용하지 않는 고객일수록 default일 것 이다.\n",
        "\n",
        "![image.png](data:image/png;base64,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)\n",
        "\n",
        "연관 없음"
      ],
      "metadata": {
        "id": "YOqxT3x4R5LI"
      }
    },
    {
      "cell_type": "code",
      "source": [
        "df_bill_amt = df[['BILL_AMT1','BILL_AMT2','BILL_AMT3','BILL_AMT4','BILL_AMT5','BILL_AMT6']]\n",
        "df_bill_amt\n",
        "\n",
        "from collections import Counter\n",
        "df['0_count'] = df['BILL_AMT1']\n",
        "\n",
        "for idx in range(df.shape[0]):\n",
        "  df['0_count'][idx] = Counter(df_bill_amt.iloc[idx])[0]"
      ],
      "metadata": {
        "id": "WJdz40XsvF3D"
      },
      "execution_count": null,
      "outputs": []
    },
    {
      "cell_type": "markdown",
      "source": [
        "### 시각화"
      ],
      "metadata": {
        "id": "rJ3ZMwJLdy1R"
      }
    },
    {
      "cell_type": "code",
      "source": [
        "sns.countplot(x='default payment next month', hue=df['0_count'], data=df, dodge=True, palette=\"pastel\");"
      ],
      "metadata": {
        "id": "gOL5YPMydy1S"
      },
      "execution_count": null,
      "outputs": []
    },
    {
      "cell_type": "code",
      "source": [
        "df['0_count'].corr(df['default payment next month'])"
      ],
      "metadata": {
        "id": "tVFr7g8zgcJt"
      },
      "execution_count": null,
      "outputs": []
    },
    {
      "cell_type": "markdown",
      "source": [
        "## delay (PAY_avg)\n",
        "\n",
        "-2, -1, 0 을 0으로 통합 ( 지연되지않은 값으로 처리)"
      ],
      "metadata": {
        "id": "rbGEe-52lDfx"
      }
    },
    {
      "cell_type": "code",
      "source": [
        "df['PAY_0'] = np.where((df['PAY_0']<=0), 0, df['PAY_0'])\n",
        "df['PAY_2'] = np.where((df['PAY_2']<=0), 0, df['PAY_2'])\n",
        "df['PAY_3'] = np.where((df['PAY_3']<=0), 0, df['PAY_3'])\n",
        "df['PAY_4'] = np.where((df['PAY_4']<=0), 0, df['PAY_4'])\n",
        "df['PAY_5'] = np.where((df['PAY_5']<=0), 0, df['PAY_5'])\n",
        "df['PAY_6'] = np.where((df['PAY_6']<=0), 0, df['PAY_6'])"
      ],
      "metadata": {
        "id": "7gG5_TiqlJ5Z"
      },
      "execution_count": null,
      "outputs": []
    },
    {
      "cell_type": "code",
      "source": [
        "df['delay']=(df['PAY_0']+df['PAY_2']+df['PAY_3']+df['PAY_4']+df['PAY_5']+df['PAY_6'])/6"
      ],
      "metadata": {
        "id": "fvNSiTWnlJwA"
      },
      "execution_count": null,
      "outputs": []
    },
    {
      "cell_type": "code",
      "source": [
        "df['delay'].describe()"
      ],
      "metadata": {
        "id": "S0R2BesXnaKE"
      },
      "execution_count": null,
      "outputs": []
    },
    {
      "cell_type": "code",
      "source": [
        "df.sort_values(by='delay', ascending=False)"
      ],
      "metadata": {
        "id": "jqWF4jnerMVa"
      },
      "execution_count": null,
      "outputs": []
    },
    {
      "cell_type": "code",
      "source": [
        "df['delay_GP'] = np.where (df['delay'] == 0, 1, \n",
        "                           np.where(df['delay'] <= 0.2, 2,\n",
        "                           np.where(df['delay'] <= 0.4, 3, 4)))\n",
        "df.delay_GP.value_counts(), sorted(df.delay_GP.unique()), len(df.delay_GP.unique())"
      ],
      "metadata": {
        "id": "WlfYqdPDlu6l"
      },
      "execution_count": null,
      "outputs": []
    },
    {
      "cell_type": "markdown",
      "source": [
        "### 시각화"
      ],
      "metadata": {
        "id": "SZqkS5sOmFle"
      }
    },
    {
      "cell_type": "code",
      "source": [
        "sns.countplot(x='default payment next month', hue=df['delay_GP'], data=df, dodge=True, palette=\"pastel\");"
      ],
      "metadata": {
        "id": "okR8QGFTn28y"
      },
      "execution_count": null,
      "outputs": []
    },
    {
      "cell_type": "code",
      "source": [
        "import matplotlib.pyplot as plt\n",
        "sns.set_style('whitegrid')\n",
        "plt.figure(figsize=(10, 5))\n",
        "sns.countplot(x='default payment next month', hue=df['delay'], data=df, dodge=True, palette=\"pastel\");"
      ],
      "metadata": {
        "id": "SJBhDAvJmFlf"
      },
      "execution_count": null,
      "outputs": []
    },
    {
      "cell_type": "code",
      "source": [],
      "metadata": {
        "id": "wO5NsVUmlu4P"
      },
      "execution_count": null,
      "outputs": []
    },
    {
      "cell_type": "markdown",
      "source": [
        "## LIMIT_USE_AVG\n",
        "\n",
        "신용 한도 대비 청구금액 비율"
      ],
      "metadata": {
        "id": "gjLVwIMtpKuj"
      }
    },
    {
      "cell_type": "code",
      "source": [
        "df['LIMIT_USE_AVG'] = ((df['BILL_AMT1'] + df['BILL_AMT2'] + df['BILL_AMT3'] + df['BILL_AMT4'] + df['BILL_AMT5'] + df['BILL_AMT6'])/6) / df['LIMIT_BAL']"
      ],
      "metadata": {
        "id": "YsmDb5H2pJia"
      },
      "execution_count": null,
      "outputs": []
    },
    {
      "cell_type": "code",
      "source": [
        "df['LIMIT_USE_AVG'] "
      ],
      "metadata": {
        "id": "PKedLf99phTu"
      },
      "execution_count": null,
      "outputs": []
    },
    {
      "cell_type": "code",
      "source": [
        "df['LIMIT_USE_AVG'].describe() "
      ],
      "metadata": {
        "id": "57_qcKbRrg4v"
      },
      "execution_count": null,
      "outputs": []
    },
    {
      "cell_type": "code",
      "source": [
        "df.sort_values(by='LIMIT_USE_AVG', ascending=False)"
      ],
      "metadata": {
        "id": "9bKAg4H3qsaV"
      },
      "execution_count": null,
      "outputs": []
    },
    {
      "cell_type": "markdown",
      "source": [
        "### 시각화"
      ],
      "metadata": {
        "id": "NYplpdvgpUK7"
      }
    },
    {
      "cell_type": "code",
      "source": [
        "x = df.LIMIT_USE_AVG.values\n",
        "sns.distplot(x, kde=True, rug=True)\n",
        "plt.title(\"LIMIT_USE_AVG Dist Plot\")\n",
        "plt.show()"
      ],
      "metadata": {
        "id": "8Z-Ufi2MsNZ0"
      },
      "execution_count": null,
      "outputs": []
    },
    {
      "cell_type": "code",
      "source": [
        "plt.figure(figsize=(10,6))\n",
        "sns.kdeplot(df[df['default payment next month']==0]['LIMIT_USE_AVG'], label='Good')\n",
        "sns.kdeplot(df[df['default payment next month']==1]['LIMIT_USE_AVG'], label='Bad')\n",
        "plt.xlabel('LIMIT_USE_AVG')\n",
        "plt.legend()\n",
        "plt.show()"
      ],
      "metadata": {
        "id": "4YbY8mojpUK7"
      },
      "execution_count": null,
      "outputs": []
    },
    {
      "cell_type": "code",
      "source": [
        "import matplotlib.pyplot as plt\n",
        "sns.set_style('whitegrid')\n",
        "plt.figure(figsize=(10, 5))\n",
        "sns.countplot(x='default payment next month', hue=df['delay'], data=df, dodge=True, palette=\"pastel\");"
      ],
      "metadata": {
        "id": "voKJ8Fm8pUK7"
      },
      "execution_count": null,
      "outputs": []
    },
    {
      "cell_type": "code",
      "source": [],
      "metadata": {
        "id": "cXxL8j7SpUK7"
      },
      "execution_count": null,
      "outputs": []
    },
    {
      "cell_type": "markdown",
      "source": [
        "## 지난 달 대비 이번 달 청구금액 증감률\n",
        "\n",
        "limit balance 그룹별로 증감률의 평균 → 평균보다 높은 사람을 1, 그외 0? "
      ],
      "metadata": {
        "id": "YYcPL7t7u33X"
      }
    },
    {
      "cell_type": "code",
      "source": [
        "df.LIMIT_BAL_GP"
      ],
      "metadata": {
        "id": "pY1hFs_du7tM"
      },
      "execution_count": null,
      "outputs": []
    },
    {
      "cell_type": "code",
      "source": [
        "df['BILL_AMT_CHANGE_AVG'] = ((((df['BILL_AMT6'] - df['BILL_AMT5']) / df['BILL_AMT5']) + ((df['BILL_AMT5'] - df['BILL_AMT4']) / df['BILL_AMT4']) + ((df['BILL_AMT4'] - df['BILL_AMT3']) / df['BILL_AMT3']) + ((df['BILL_AMT3'] - df['BILL_AMT2']) / df['BILL_AMT2']) + ((df['BILL_AMT2'] - df['BILL_AMT1']) / df['BILL_AMT1'])) / 5) * 100"
      ],
      "metadata": {
        "id": "ubNZntP8u7q4"
      },
      "execution_count": null,
      "outputs": []
    },
    {
      "cell_type": "code",
      "source": [
        "df['BILL_AMT_CHANGE_AVG5'] = ((df['BILL_AMT6'] - df['BILL_AMT5']) / df['BILL_AMT5'])\n",
        "df['BILL_AMT_CHANGE_AVG4'] = ((df['BILL_AMT5'] - df['BILL_AMT4']) / df['BILL_AMT4'])\n",
        "df['BILL_AMT_CHANGE_AVG3'] = ((df['BILL_AMT4'] - df['BILL_AMT3']) / df['BILL_AMT3'])\n",
        "df['BILL_AMT_CHANGE_AVG2'] = ((df['BILL_AMT3'] - df['BILL_AMT2']) / df['BILL_AMT2'])\n",
        "df['BILL_AMT_CHANGE_AVG1'] = ((df['BILL_AMT2'] - df['BILL_AMT1']) / df['BILL_AMT1'])"
      ],
      "metadata": {
        "id": "zy0mARAru7oh"
      },
      "execution_count": null,
      "outputs": []
    },
    {
      "cell_type": "code",
      "source": [
        "BILL_AMT_CHANGE_AVG_df = df[['BILL_AMT_CHANGE_AVG1', 'BILL_AMT_CHANGE_AVG2', 'BILL_AMT_CHANGE_AVG3', 'BILL_AMT_CHANGE_AVG4', 'BILL_AMT_CHANGE_AVG5']]"
      ],
      "metadata": {
        "id": "RhyG7mQcz3x4"
      },
      "execution_count": null,
      "outputs": []
    },
    {
      "cell_type": "code",
      "source": [
        "BILL_AMT_CHANGE_AVG_df['total'] = df.sum(axis=1)"
      ],
      "metadata": {
        "id": "pUD2vpTB0HEI"
      },
      "execution_count": null,
      "outputs": []
    },
    {
      "cell_type": "code",
      "source": [
        "BILL_AMT_CHANGE_AVG_df['total'].describe()"
      ],
      "metadata": {
        "id": "EfnS-KFT0ROw"
      },
      "execution_count": null,
      "outputs": []
    },
    {
      "cell_type": "code",
      "source": [
        "# nan값 확인 \n",
        "df['BILL_AMT_CHANGE_AVG'].isnull().sum()"
      ],
      "metadata": {
        "id": "YKflLBAwzhRp"
      },
      "execution_count": null,
      "outputs": []
    },
    {
      "cell_type": "code",
      "source": [
        "# nan값 0으로 대체\n",
        "df['BILL_AMT_CHANGE_AVG'] = df['BILL_AMT_CHANGE_AVG'].fillna(0)"
      ],
      "metadata": {
        "id": "zo8k1MkVu7gV"
      },
      "execution_count": null,
      "outputs": []
    },
    {
      "cell_type": "code",
      "source": [
        "# nan값 확인 \n",
        "df['BILL_AMT_CHANGE_AVG'].isnull().sum()"
      ],
      "metadata": {
        "id": "O0dKxngawrH2"
      },
      "execution_count": null,
      "outputs": []
    },
    {
      "cell_type": "code",
      "source": [
        "df['BILL_AMT_CHANGE_AVG'].describe()"
      ],
      "metadata": {
        "id": "aqDlftd6wlHe"
      },
      "execution_count": null,
      "outputs": []
    },
    {
      "cell_type": "code",
      "source": [
        "LIMIT_BAL_GP_1 = df[df['LIMIT_BAL_GP'] == 1]['BILL_AMT_CHANGE_AVG']\n",
        "LIMIT_BAL_GP_2 = df[df['LIMIT_BAL_GP'] == 2]['BILL_AMT_CHANGE_AVG']\n",
        "LIMIT_BAL_GP_3 = df[df['LIMIT_BAL_GP'] == 3]['BILL_AMT_CHANGE_AVG']\n",
        "LIMIT_BAL_GP_4 = df[df['LIMIT_BAL_GP'] == 4]['BILL_AMT_CHANGE_AVG']"
      ],
      "metadata": {
        "id": "eGqYopnHxAak"
      },
      "execution_count": null,
      "outputs": []
    },
    {
      "cell_type": "code",
      "source": [
        "LIMIT_BAL_GP_1"
      ],
      "metadata": {
        "id": "-Uvfqk--y8k-"
      },
      "execution_count": null,
      "outputs": []
    },
    {
      "cell_type": "code",
      "source": [
        "df['LIMIT_BAL_GP'][4]"
      ],
      "metadata": {
        "id": "M4Yvg6vHytvv"
      },
      "execution_count": null,
      "outputs": []
    },
    {
      "cell_type": "code",
      "source": [
        "# df['BILL_AMT_CHANGE_AVG_GR'] = df['LIMIT_BAL_GP']\n",
        "# for i in range(30000):\n",
        "#   if df['LIMIT_BAL_GP'][i] == 1:\n",
        "#     df['BILL_AMT_CHANGE_AVG_GR'][i] = \n"
      ],
      "metadata": {
        "id": "Jq03w-Bax4-a"
      },
      "execution_count": null,
      "outputs": []
    },
    {
      "cell_type": "markdown",
      "source": [
        "# new Corr()"
      ],
      "metadata": {
        "id": "PfgyoAeFkh8k"
      }
    },
    {
      "cell_type": "code",
      "source": [
        "col_name = df.columns\n",
        "df_corr_li = []\n",
        "for idx in range(len(col_name)):\n",
        "  df_corr_li.append(df[col_name[idx]].corr(df['default payment next month']))\n",
        "\n",
        "  # print(name, df[name].corr(df['default payment next month'])\n",
        "df_corr = pd.DataFrame(df_corr_li, col_name)"
      ],
      "metadata": {
        "id": "QLs_SwnJkh8l"
      },
      "execution_count": null,
      "outputs": []
    },
    {
      "cell_type": "code",
      "source": [
        "df_corr.columns = ['corr']"
      ],
      "metadata": {
        "id": "bsJITDijkh8l"
      },
      "execution_count": null,
      "outputs": []
    },
    {
      "cell_type": "code",
      "source": [
        "df_corr['abs_corr'] = abs(df_corr['corr'])"
      ],
      "metadata": {
        "id": "SfSWFp8skh8l"
      },
      "execution_count": null,
      "outputs": []
    },
    {
      "cell_type": "code",
      "source": [
        "df_corr.sort_values(by='abs_corr', ascending=False)"
      ],
      "metadata": {
        "id": "cv7z_Djzkh8l"
      },
      "execution_count": null,
      "outputs": []
    },
    {
      "cell_type": "markdown",
      "source": [
        "# choose df 모델링\n"
      ],
      "metadata": {
        "id": "4pz5ghMgiAxD"
      }
    },
    {
      "cell_type": "code",
      "source": [
        "choose_train = df[['EDUCATION_re', 'delay', 'LIMIT_USE_AVG', 'LIMIT_BAL_GP', 'AGE_GP']]\n",
        "test = df['default payment next month']"
      ],
      "metadata": {
        "id": "5Sa0eTMi2S0i"
      },
      "execution_count": null,
      "outputs": []
    },
    {
      "cell_type": "code",
      "source": [
        "from sklearn.model_selection import train_test_split\n",
        "X_train, X_test, y_train, y_test = train_test_split(choose_train, \n",
        "                                                    test, \n",
        "                                                    test_size = 0.2)"
      ],
      "metadata": {
        "id": "iE_UHwM53L5t"
      },
      "execution_count": null,
      "outputs": []
    },
    {
      "cell_type": "code",
      "source": [
        "print(X_train.shape)\n",
        "print(y_train.shape)\n",
        "\n",
        "print(X_test.shape)\n",
        "print(y_test.shape)"
      ],
      "metadata": {
        "id": "2be9Ld-u3L5u"
      },
      "execution_count": null,
      "outputs": []
    },
    {
      "cell_type": "code",
      "source": [
        "choose_clfs_tuned = []  # 튜닝된 모델을 저장\n",
        "for clf, param_grid in tqdm(clfs):\n",
        "    start = time.time()\n",
        "    rand_search = RandomizedSearchCV(clf, param_grid, n_iter=5, scoring='roc_auc', \n",
        "                                     cv=3, random_state=0, n_jobs=-1)\n",
        "    rand_search.fit(X_train, y_train)\n",
        "    clf_name = type(clf).__name__\n",
        "    clf_score = rand_search.score(X_test, y_test)\n",
        "    print('{:30s} {:30f} {:.1f}'.format(clf_name, clf_score, time.time() - start))\n",
        "    print('최적 하이퍼 파라미터: ', rand_search.best_params_)\n",
        "    print('최고 예측 정확도: {:.4f}'.format(rand_search.best_score_))\n",
        "    choose_clfs_tuned.append((clf_name, rand_search, clf_score))"
      ],
      "metadata": {
        "id": "w5few23u3L5t"
      },
      "execution_count": null,
      "outputs": []
    },
    {
      "cell_type": "code",
      "source": [
        "scaler = StandardScaler()\n",
        "scaler.fit(X_train)\n",
        "\n",
        "X_train_scaled = scaler.transform(X_train)\n",
        "X_test_scaled = scaler.transform(X_test)"
      ],
      "metadata": {
        "id": "S-oI6Jgu3L5t"
      },
      "execution_count": null,
      "outputs": []
    },
    {
      "cell_type": "code",
      "source": [
        "scaled_choose_clfs_tuned = []  # 튜닝된 모델을 저장\n",
        "for clf, param_grid in tqdm(clfs):\n",
        "    start = time.time()\n",
        "    rand_search = RandomizedSearchCV(clf, param_grid, n_iter=5, scoring='roc_auc', \n",
        "                                     cv=3, random_state=0, n_jobs=-1)\n",
        "    rand_search.fit(X_train, y_train)\n",
        "    clf_name = type(clf).__name__\n",
        "    clf_score = rand_search.score(X_test_scaled, y_test)\n",
        "    print('{:30s} {:30f} {:.1f}'.format(clf_name, clf_score, time.time() - start))\n",
        "    print('최적 하이퍼 파라미터: ', rand_search.best_params_)\n",
        "    print('최고 예측 정확도: {:.4f}'.format(rand_search.best_score_))\n",
        "    scaled_clfs_tuned.append((clf_name, rand_search, clf_score))"
      ],
      "metadata": {
        "id": "X_JWbyxP3L5t"
      },
      "execution_count": null,
      "outputs": []
    },
    {
      "cell_type": "code",
      "source": [
        "klib.corr_plot(X_train, target=y_train)\n",
        "klib.corr_plot(X_train, target=y_train, annot=False, figsize=(15,12))\n",
        "klib.corr_plot(X_train, target=y_train, split='high', annot=False, figsize=(15,12))"
      ],
      "metadata": {
        "id": "Tn4fw6Yi3L5t"
      },
      "execution_count": null,
      "outputs": []
    },
    {
      "cell_type": "code",
      "source": [
        "X_train.isnull().sum()"
      ],
      "metadata": {
        "id": "mqaGkRoC3L5u"
      },
      "execution_count": null,
      "outputs": []
    },
    {
      "cell_type": "code",
      "source": [
        "# choose data GradientBoostingClassifier 모델\n",
        "# 62%|██████▎   | 5/8 [05:12<02:17, 45.88s/it]GradientBoostingClassifier                           0.770011 11.2\n",
        "# 최적 하이퍼 파라미터:  {'n_estimators': 100, 'min_samples_leaf': 100, 'max_features': 0.1, 'max_depth': 4, 'loss': 'deviance', 'learning_rate': 0.1}\n",
        "# 최고 예측 정확도: 0.7701\n",
        "\n",
        "GBC = GradientBoostingClassifier(n_estimators=100, min_samples_leaf=100,\n",
        "                     max_features=0.1, max_depth=4, loss='deviance', learning_rate=0.07, random_state=42)\n",
        "GBC.fit(X_train, y_train)\n",
        "\n",
        "# ▶ 예측\n",
        "y_pred_train = GBC.predict(X_train)\n",
        "y_pred_test = GBC.predict(X_test)\n",
        "\n",
        "print(classification_report(y_train, y_pred_train))\n",
        "print(classification_report(y_test, y_pred_test))"
      ],
      "metadata": {
        "id": "NCMPc71X3L5u"
      },
      "execution_count": null,
      "outputs": []
    },
    {
      "cell_type": "code",
      "source": [
        "# scaled data LogisticRegression 모델\n",
        "#  38%|███▊      | 3/8 [04:48<07:39, 91.95s/it] LogisticRegression                                   0.742516 0.4\n",
        "# 최적 하이퍼 파라미터:  {'penalty': 'l2', 'C': 1.0}\n",
        "# 최고 예측 정확도: 0.7429\n",
        "\n",
        "LR = LogisticRegression(penalty='l2', C=1.0)\n",
        "LR.fit(X_train_scaled, y_train)\n",
        "\n",
        "# ▶ 예측\n",
        "y_pred_train = LR.predict(X_train_scaled)\n",
        "y_pred_test = LR.predict(X_test_scaled)\n",
        "\n",
        "print(classification_report(y_train, y_pred_train))\n",
        "print(classification_report(y_test, y_pred_test))"
      ],
      "metadata": {
        "id": "QyuYoZdp3L5u"
      },
      "execution_count": null,
      "outputs": []
    },
    {
      "cell_type": "code",
      "source": [
        "# origin data RandomForestClassifier모델\n",
        "rfc = RandomForestClassifier(n_estimators=200, max_depth=5, random_state=42)\n",
        "rfc.fit(X_train, y_train)\n",
        "\n",
        "# ▶ 예측\n",
        "y_pred_train = rfc.predict(X_train)\n",
        "y_pred_test = rfc.predict(X_test)\n",
        "\n",
        "print(classification_report(y_train, y_pred_train))\n",
        "print(classification_report(y_test, y_pred_test))"
      ],
      "metadata": {
        "id": "bJDeqTPG3L5u"
      },
      "execution_count": null,
      "outputs": []
    },
    {
      "cell_type": "code",
      "source": [
        "# scaled data RandomForestClassifier모델\n",
        "scaled_rfc = RandomForestClassifier(n_estimators=200, max_depth=5, random_state=42)\n",
        "scaled_rfc.fit(X_train_scaled, y_train)\n",
        "\n",
        "# ▶ 예측\n",
        "y_pred_train = scaled_rfc.predict(X_train_scaled)\n",
        "y_pred_test = scaled_rfc.predict(X_test_scaled)\n",
        "\n",
        "print(classification_report(y_train, y_pred_train))\n",
        "print(classification_report(y_test, y_pred_test))"
      ],
      "metadata": {
        "id": "_OicUrTV3L5u"
      },
      "execution_count": null,
      "outputs": []
    },
    {
      "cell_type": "code",
      "source": [
        "ftr_importances_values = scaled_rfc.feature_importances_\n",
        "ftr_importances = pd.Series(ftr_importances_values, index = X_train.columns)\n",
        "ftr_top20 = ftr_importances.sort_values(ascending=False)[:10]\n",
        "\n",
        "plt.figure(figsize=(8,6))\n",
        "plt.title('scaled_RandomForestClassifier model Feature Importances')\n",
        "sns.barplot(x=ftr_top20, y=ftr_top20.index, palette=\"pastel\")\n",
        "plt.rc('xtick', labelsize=5)\n",
        "plt.show()"
      ],
      "metadata": {
        "id": "6395D69N3L5u"
      },
      "execution_count": null,
      "outputs": []
    },
    {
      "cell_type": "code",
      "source": [
        "ftr_importances_values = rfc.feature_importances_\n",
        "ftr_importances = pd.Series(ftr_importances_values, index = X_train.columns)\n",
        "ftr_top20 = ftr_importances.sort_values(ascending=False)[:10]\n",
        "\n",
        "plt.figure(figsize=(8,6))\n",
        "plt.title('RandomForestClassifier model Feature Importances')\n",
        "sns.barplot(x=ftr_top20, y=ftr_top20.index, palette=\"pastel\")\n",
        "plt.rc('xtick', labelsize=5)\n",
        "plt.show()"
      ],
      "metadata": {
        "id": "y4jJjlMD3L5u"
      },
      "execution_count": null,
      "outputs": []
    },
    {
      "cell_type": "code",
      "source": [
        "# ftr_importances_values = LR.feature_importances_\n",
        "# ftr_importances = pd.Series(ftr_importances_values, index = X_train.columns)\n",
        "# ftr_top20 = ftr_importances.sort_values(ascending=False)[:10]\n",
        "\n",
        "# plt.figure(figsize=(8,6))\n",
        "# plt.title('AdaBoostClassifier model Feature Importances')\n",
        "# sns.barplot(x=ftr_top20, y=ftr_top20.index, palette=\"pastel\")\n",
        "# plt.rc('xtick', labelsize=5)\n",
        "# plt.show()"
      ],
      "metadata": {
        "id": "SnHeF9xx3L5u"
      },
      "execution_count": null,
      "outputs": []
    },
    {
      "cell_type": "code",
      "source": [
        "ftr_importances_values = GBC.feature_importances_\n",
        "ftr_importances = pd.Series(ftr_importances_values, index = X_train.columns)\n",
        "ftr_top20 = ftr_importances.sort_values(ascending=False)[:10]\n",
        "\n",
        "plt.figure(figsize=(8,6))\n",
        "plt.title('XGBClassifier model Feature Importances')\n",
        "sns.barplot(x=ftr_top20, y=ftr_top20.index, palette=\"pastel\")\n",
        "plt.rc('xtick', labelsize=5)\n",
        "plt.show()"
      ],
      "metadata": {
        "id": "6b0R1Xfu3L5u"
      },
      "execution_count": null,
      "outputs": []
    },
    {
      "cell_type": "code",
      "source": [],
      "metadata": {
        "id": "6l4ME6id8grh"
      },
      "execution_count": null,
      "outputs": []
    },
    {
      "cell_type": "code",
      "source": [
        "# origin data XGBClassifier모델\n",
        "# 100%|██████████| 8/8 [07:36<00:00, 57.08s/it]XGBClassifier                                        0.789065 81.5\n",
        "# 최적 하이퍼 파라미터:  {'reg_alpha': 0, 'n_estimators': 250, 'min_child_weight': 1, 'max_depth': 3, 'learning_rate': 0.07}\n",
        "# 최고 예측 정확도: 0.7793\n",
        "\n",
        "XGBC = XGBClassifier(reg_alpha=0, n_estimators=250, min_child_weight=1,\n",
        "                     max_depth=3, learning_rate=0.07, random_state=42)\n",
        "XGBC.fit(X_train, y_train)\n",
        "\n",
        "# ▶ 예측\n",
        "y_pred_train = XGBC.predict(X_train)\n",
        "y_pred_test = XGBC.predict(X_test)\n",
        "\n",
        "print(classification_report(y_train, y_pred_train))\n",
        "print(classification_report(y_test, y_pred_test))"
      ],
      "metadata": {
        "id": "TBogTFm78g_s"
      },
      "execution_count": null,
      "outputs": []
    },
    {
      "cell_type": "code",
      "source": [
        "# scaled data AdaBoostClassifier모델\n",
        "#  75%|███████▌  | 6/8 [05:44<02:14, 67.26s/it]AdaBoostClassifier                                   0.740279 114.1\n",
        "# 최적 하이퍼 파라미터:  {'n_estimators': 200, 'learning_rate': 0.1}\n",
        "\n",
        "abc = AdaBoostClassifier(n_estimators=200, learning_rate=0.1, random_state=42)\n",
        "abc.fit(X_train_scaled, y_train)\n",
        "\n",
        "# ▶ 예측\n",
        "y_pred_train = abc.predict(X_train_scaled)\n",
        "y_pred_test = abc.predict(X_test_scaled)\n",
        "\n",
        "print(classification_report(y_train, y_pred_train))\n",
        "print(classification_report(y_test, y_pred_test))"
      ],
      "metadata": {
        "id": "UewEUWoj8g_t"
      },
      "execution_count": null,
      "outputs": []
    },
    {
      "cell_type": "code",
      "source": [
        "ftr_importances_values = XGBC.feature_importances_\n",
        "ftr_importances = pd.Series(ftr_importances_values, index = X_train.columns)\n",
        "ftr_top20 = ftr_importances.sort_values(ascending=False)[:10]\n",
        "\n",
        "plt.figure(figsize=(8,6))\n",
        "plt.title('XGBClassifier model Feature Importances')\n",
        "sns.barplot(x=ftr_top20, y=ftr_top20.index, palette=\"pastel\")\n",
        "plt.rc('xtick', labelsize=5)\n",
        "plt.show()"
      ],
      "metadata": {
        "id": "sF4n349J8g_t"
      },
      "execution_count": null,
      "outputs": []
    },
    {
      "cell_type": "code",
      "source": [
        "ftr_importances_values = abc.feature_importances_\n",
        "ftr_importances = pd.Series(ftr_importances_values, index = X_train.columns)\n",
        "ftr_top20 = ftr_importances.sort_values(ascending=False)[:10]\n",
        "\n",
        "plt.figure(figsize=(8,6))\n",
        "plt.title('AdaBoostClassifier model Feature Importances')\n",
        "sns.barplot(x=ftr_top20, y=ftr_top20.index, palette=\"pastel\")\n",
        "plt.rc('xtick', labelsize=5)\n",
        "plt.show()"
      ],
      "metadata": {
        "id": "lTNMCc4k8g_t"
      },
      "execution_count": null,
      "outputs": []
    }
  ]
}