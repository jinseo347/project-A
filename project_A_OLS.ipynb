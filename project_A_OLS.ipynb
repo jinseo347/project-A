{
 "cells": [
  {
   "cell_type": "markdown",
   "id": "b931f186-05d3-4ad0-8a7e-0143b6fa9536",
   "metadata": {},
   "source": [
    "project-A: climate change\n",
    "\n",
    "Day1(22.12.05)\n",
    "주제 발표: 전국 기온 분석(목표: 기온 상승 요인 분석)\n",
    "데이터 모으기: \n",
    "\n",
    "Day2(22.12.06)\n",
    "기후데이터 분석 후 지역 선정\n",
    "선정 지역의 기후 변화 원인 파악\n",
    "관련 데이터 모으기\n",
    "\n",
    "Day3(22.12.07)\n",
    "기후와 원인 데이터 상관관계 분석\n",
    "가시화\n",
    "\n",
    "Day4(22.12.08)\n",
    "분석의 유의성 파악\n",
    "프레젠테이션 준비\n",
    "\n",
    "Day5(22.12.09)\n",
    "정리 및 프레젠테이션"
   ]
  },
  {
   "cell_type": "markdown",
   "id": "dce00d44-4206-4134-9927-49f7fd5dd8cc",
   "metadata": {},
   "source": [
    "기온 분석/ 목표: 기온상승 요인 분석"
   ]
  },
  {
   "cell_type": "code",
   "execution_count": 36,
   "id": "b626076a-7458-4a7c-a123-56670463db1b",
   "metadata": {},
   "outputs": [
    {
     "data": {
      "text/html": [
       "<div>\n",
       "<style scoped>\n",
       "    .dataframe tbody tr th:only-of-type {\n",
       "        vertical-align: middle;\n",
       "    }\n",
       "\n",
       "    .dataframe tbody tr th {\n",
       "        vertical-align: top;\n",
       "    }\n",
       "\n",
       "    .dataframe thead th {\n",
       "        text-align: right;\n",
       "    }\n",
       "</style>\n",
       "<table border=\"1\" class=\"dataframe\">\n",
       "  <thead>\n",
       "    <tr style=\"text-align: right;\">\n",
       "      <th></th>\n",
       "      <th>1988</th>\n",
       "      <th>2021</th>\n",
       "      <th>ch</th>\n",
       "    </tr>\n",
       "  </thead>\n",
       "  <tbody>\n",
       "    <tr>\n",
       "      <th>청주평균기온(℃)</th>\n",
       "      <td>11.7</td>\n",
       "      <td>14.4</td>\n",
       "      <td>2.7</td>\n",
       "    </tr>\n",
       "    <tr>\n",
       "      <th>원주평균기온(℃)</th>\n",
       "      <td>10.6</td>\n",
       "      <td>13.0</td>\n",
       "      <td>2.4</td>\n",
       "    </tr>\n",
       "    <tr>\n",
       "      <th>제주평균기온(℃)</th>\n",
       "      <td>15.2</td>\n",
       "      <td>17.5</td>\n",
       "      <td>2.3</td>\n",
       "    </tr>\n",
       "    <tr>\n",
       "      <th>구미평균기온(℃)</th>\n",
       "      <td>11.6</td>\n",
       "      <td>13.9</td>\n",
       "      <td>2.3</td>\n",
       "    </tr>\n",
       "    <tr>\n",
       "      <th>양평평균기온(℃)</th>\n",
       "      <td>10.5</td>\n",
       "      <td>12.7</td>\n",
       "      <td>2.2</td>\n",
       "    </tr>\n",
       "    <tr>\n",
       "      <th>대관령평균기온(℃)</th>\n",
       "      <td>5.8</td>\n",
       "      <td>7.9</td>\n",
       "      <td>2.1</td>\n",
       "    </tr>\n",
       "    <tr>\n",
       "      <th>수원평균기온(℃)</th>\n",
       "      <td>11.3</td>\n",
       "      <td>13.4</td>\n",
       "      <td>2.1</td>\n",
       "    </tr>\n",
       "    <tr>\n",
       "      <th>대전평균기온(℃)</th>\n",
       "      <td>12.3</td>\n",
       "      <td>14.3</td>\n",
       "      <td>2.0</td>\n",
       "    </tr>\n",
       "    <tr>\n",
       "      <th>의성평균기온(℃)</th>\n",
       "      <td>10.5</td>\n",
       "      <td>12.4</td>\n",
       "      <td>1.9</td>\n",
       "    </tr>\n",
       "    <tr>\n",
       "      <th>홍천평균기온(℃)</th>\n",
       "      <td>9.9</td>\n",
       "      <td>11.8</td>\n",
       "      <td>1.9</td>\n",
       "    </tr>\n",
       "  </tbody>\n",
       "</table>\n",
       "</div>"
      ],
      "text/plain": [
       "            1988  2021   ch\n",
       "청주평균기온(℃)   11.7  14.4  2.7\n",
       "원주평균기온(℃)   10.6  13.0  2.4\n",
       "제주평균기온(℃)   15.2  17.5  2.3\n",
       "구미평균기온(℃)   11.6  13.9  2.3\n",
       "양평평균기온(℃)   10.5  12.7  2.2\n",
       "대관령평균기온(℃)   5.8   7.9  2.1\n",
       "수원평균기온(℃)   11.3  13.4  2.1\n",
       "대전평균기온(℃)   12.3  14.3  2.0\n",
       "의성평균기온(℃)   10.5  12.4  1.9\n",
       "홍천평균기온(℃)    9.9  11.8  1.9"
      ]
     },
     "execution_count": 36,
     "metadata": {},
     "output_type": "execute_result"
    }
   ],
   "source": [
    "df = pd.read_csv('data/1988_upper.txt',index_col=0)\n",
    "df"
   ]
  },
  {
   "cell_type": "code",
   "execution_count": null,
   "id": "23eb1cf0-87dd-46b3-83c8-1d39cfdbbc9d",
   "metadata": {},
   "outputs": [],
   "source": []
  },
  {
   "cell_type": "code",
   "execution_count": null,
   "id": "c242b896-2d1c-4263-b50f-e74a399cccca",
   "metadata": {},
   "outputs": [],
   "source": []
  },
  {
   "cell_type": "code",
   "execution_count": null,
   "id": "42435934-c7ec-45de-b256-73da79fa44f5",
   "metadata": {},
   "outputs": [],
   "source": []
  },
  {
   "cell_type": "code",
   "execution_count": 2,
   "id": "84440e71-c8ec-41ce-804e-e6bb4182c461",
   "metadata": {},
   "outputs": [],
   "source": [
    "import pandas as pd"
   ]
  },
  {
   "cell_type": "code",
   "execution_count": 15,
   "id": "3e104a6b-d163-47ee-8a3e-10fd5b77ec85",
   "metadata": {
    "tags": []
   },
   "outputs": [
    {
     "data": {
      "text/html": [
       "<div>\n",
       "<style scoped>\n",
       "    .dataframe tbody tr th:only-of-type {\n",
       "        vertical-align: middle;\n",
       "    }\n",
       "\n",
       "    .dataframe tbody tr th {\n",
       "        vertical-align: top;\n",
       "    }\n",
       "\n",
       "    .dataframe thead th {\n",
       "        text-align: right;\n",
       "    }\n",
       "</style>\n",
       "<table border=\"1\" class=\"dataframe\">\n",
       "  <thead>\n",
       "    <tr style=\"text-align: right;\">\n",
       "      <th></th>\n",
       "      <th>청주연평균기온(℃)</th>\n",
       "      <th>청주인구수</th>\n",
       "      <th>청주산업체수</th>\n",
       "      <th>청주산업종사자수</th>\n",
       "      <th>청주일산화탄소량</th>\n",
       "    </tr>\n",
       "  </thead>\n",
       "  <tbody>\n",
       "    <tr>\n",
       "      <th>1988</th>\n",
       "      <td>11.7</td>\n",
       "      <td>417435</td>\n",
       "      <td>339.0</td>\n",
       "      <td>41436.0</td>\n",
       "      <td>NaN</td>\n",
       "    </tr>\n",
       "    <tr>\n",
       "      <th>1989</th>\n",
       "      <td>12.6</td>\n",
       "      <td>453470</td>\n",
       "      <td>296.0</td>\n",
       "      <td>40647.0</td>\n",
       "      <td>NaN</td>\n",
       "    </tr>\n",
       "    <tr>\n",
       "      <th>1990</th>\n",
       "      <td>12.9</td>\n",
       "      <td>497429</td>\n",
       "      <td>319.0</td>\n",
       "      <td>40782.0</td>\n",
       "      <td>NaN</td>\n",
       "    </tr>\n",
       "    <tr>\n",
       "      <th>1991</th>\n",
       "      <td>12.0</td>\n",
       "      <td>455148</td>\n",
       "      <td>302.0</td>\n",
       "      <td>35450.0</td>\n",
       "      <td>NaN</td>\n",
       "    </tr>\n",
       "    <tr>\n",
       "      <th>1992</th>\n",
       "      <td>12.3</td>\n",
       "      <td>471118</td>\n",
       "      <td>293.0</td>\n",
       "      <td>33166.0</td>\n",
       "      <td>NaN</td>\n",
       "    </tr>\n",
       "  </tbody>\n",
       "</table>\n",
       "</div>"
      ],
      "text/plain": [
       "      청주연평균기온(℃)   청주인구수  청주산업체수  청주산업종사자수  청주일산화탄소량\n",
       "1988        11.7  417435   339.0   41436.0       NaN\n",
       "1989        12.6  453470   296.0   40647.0       NaN\n",
       "1990        12.9  497429   319.0   40782.0       NaN\n",
       "1991        12.0  455148   302.0   35450.0       NaN\n",
       "1992        12.3  471118   293.0   33166.0       NaN"
      ]
     },
     "execution_count": 15,
     "metadata": {},
     "output_type": "execute_result"
    }
   ],
   "source": [
    "df_cj = pd.read_csv('data/청주_날씨_인구_산업_co.txt',index_col=0)\n",
    "df_cj.head()"
   ]
  },
  {
   "cell_type": "code",
   "execution_count": 10,
   "id": "8a899c7d-95df-4610-b4aa-634c3d65770c",
   "metadata": {
    "collapsed": true,
    "jupyter": {
     "outputs_hidden": true
    },
    "tags": []
   },
   "outputs": [
    {
     "name": "stdout",
     "output_type": "stream",
     "text": [
      "Collecting scikit-learn\n",
      "  Using cached scikit_learn-1.1.3-cp39-cp39-win_amd64.whl (7.6 MB)\n",
      "Requirement already satisfied: joblib>=1.0.0 in c:\\users\\pc\\.venv\\thired_day\\lib\\site-packages (from scikit-learn) (1.2.0)\n",
      "Requirement already satisfied: threadpoolctl>=2.0.0 in c:\\users\\pc\\.venv\\thired_day\\lib\\site-packages (from scikit-learn) (3.1.0)\n",
      "Requirement already satisfied: numpy>=1.17.3 in c:\\users\\pc\\.venv\\thired_day\\lib\\site-packages (from scikit-learn) (1.23.5)\n",
      "Requirement already satisfied: scipy>=1.3.2 in c:\\users\\pc\\.venv\\thired_day\\lib\\site-packages (from scikit-learn) (1.9.3)\n",
      "Installing collected packages: scikit-learn\n",
      "Successfully installed scikit-learn-1.1.3\n",
      "Collecting scikit-learn\n",
      "  Using cached scikit_learn-1.1.3-cp39-cp39-win_amd64.whl (7.6 MB)\n",
      "Collecting scipy>=1.3.2\n",
      "  Using cached scipy-1.9.3-cp39-cp39-win_amd64.whl (40.2 MB)\n",
      "Requirement already satisfied: threadpoolctl>=2.0.0 in c:\\users\\pc\\.venv\\thired_day\\lib\\site-packages (from scikit-learn) (3.1.0)\n",
      "Requirement already satisfied: numpy>=1.17.3 in c:\\users\\pc\\.venv\\thired_day\\lib\\site-packages (from scikit-learn) (1.23.5)\n",
      "Requirement already satisfied: joblib>=1.0.0 in c:\\users\\pc\\.venv\\thired_day\\lib\\site-packages (from scikit-learn) (1.2.0)\n",
      "Installing collected packages: scipy, scikit-learn\n"
     ]
    },
    {
     "name": "stderr",
     "output_type": "stream",
     "text": [
      "ERROR: Could not install packages due to an OSError: [WinError 32] 다른 프로세스가 파일을 사용 중이기 때문에 프로세스가 액세스 할 수 없습니다: 'C:\\\\Users\\\\PC\\\\.venv\\\\Thired_Day\\\\Lib\\\\site-packages\\\\sklearn\\\\feature_selection\\\\_rfe.py'\n",
      "Check the permissions.\n",
      "\n"
     ]
    },
    {
     "name": "stdout",
     "output_type": "stream",
     "text": [
      "Collecting scikit-learn\n",
      "  Downloading scikit_learn-1.1.3-cp39-cp39-win_amd64.whl (7.6 MB)\n",
      "     ---------------------------------------- 7.6/7.6 MB 20.2 MB/s eta 0:00:00\n",
      "Collecting scipy>=1.3.2\n",
      "  Downloading scipy-1.9.3-cp39-cp39-win_amd64.whl (40.2 MB)\n",
      "     ---------------------------------------- 40.2/40.2 MB 9.0 MB/s eta 0:00:00\n",
      "Collecting threadpoolctl>=2.0.0\n",
      "  Downloading threadpoolctl-3.1.0-py3-none-any.whl (14 kB)\n",
      "Requirement already satisfied: numpy>=1.17.3 in c:\\users\\pc\\.venv\\thired_day\\lib\\site-packages (from scikit-learn) (1.23.5)\n",
      "Requirement already satisfied: joblib>=1.0.0 in c:\\users\\pc\\.venv\\thired_day\\lib\\site-packages (from scikit-learn) (1.2.0)\n",
      "Installing collected packages: threadpoolctl, scipy, scikit-learn\n",
      "Successfully installed scikit-learn-1.1.3 scipy-1.9.3 threadpoolctl-3.1.0\n"
     ]
    }
   ],
   "source": [
    "! pip install scikit-learn"
   ]
  },
  {
   "cell_type": "code",
   "execution_count": 12,
   "id": "522904a3-3895-40d9-893d-1b95fa392775",
   "metadata": {
    "collapsed": true,
    "jupyter": {
     "outputs_hidden": true
    },
    "tags": []
   },
   "outputs": [
    {
     "name": "stdout",
     "output_type": "stream",
     "text": [
      "Requirement already satisfied: scipy in c:\\users\\pc\\.venv\\thired_day\\lib\\site-packages (1.9.3)\n",
      "Requirement already satisfied: numpy<1.26.0,>=1.18.5 in c:\\users\\pc\\.venv\\thired_day\\lib\\site-packages (from scipy) (1.23.5)\n"
     ]
    }
   ],
   "source": [
    "! pip install scipy"
   ]
  },
  {
   "cell_type": "code",
   "execution_count": 13,
   "id": "cd6eb559-a25e-4a2a-9430-df3c2a0608da",
   "metadata": {
    "tags": []
   },
   "outputs": [],
   "source": [
    "from sklearn.linear_model import LinearRegression"
   ]
  },
  {
   "cell_type": "code",
   "execution_count": 14,
   "id": "96404f91-0002-47ed-bf1b-bac9ed96acd3",
   "metadata": {
    "tags": []
   },
   "outputs": [],
   "source": [
    "from sklearn.linear_model import LinearRegression\n",
    "import pandas as pd\n",
    "import numpy as np\n",
    "import matplotlib.pyplot as plt"
   ]
  },
  {
   "cell_type": "code",
   "execution_count": 16,
   "id": "66975e18-284f-4e96-921b-f52179b62f40",
   "metadata": {
    "tags": []
   },
   "outputs": [
    {
     "data": {
      "image/png": "[encoded data removed]",
      "text/plain": [
       "<Figure size 640x480 with 1 Axes>"
      ]
     },
     "metadata": {},
     "output_type": "display_data"
    }
   ],
   "source": [
    "X = df_cj[\"청주연평균기온(℃)\"]\n",
    "y = df_cj[\"청주인구수\"]\n",
    "plt.plot(X, y, 'o')\n",
    "plt.show()"
   ]
  },
  {
   "cell_type": "code",
   "execution_count": 17,
   "id": "20dcb7fe-4ad4-4c5b-a635-88ecffcefa65",
   "metadata": {
    "tags": []
   },
   "outputs": [
    {
     "data": {
      "text/html": [
       "<style>#sk-container-id-1 {color: black;background-color: white;}#sk-container-id-1 pre{padding: 0;}#sk-container-id-1 div.sk-toggleable {background-color: white;}#sk-container-id-1 label.sk-toggleable__label {cursor: pointer;display: block;width: 100%;margin-bottom: 0;padding: 0.3em;box-sizing: border-box;text-align: center;}#sk-container-id-1 label.sk-toggleable__label-arrow:before {content: \"▸\";float: left;margin-right: 0.25em;color: #696969;}#sk-container-id-1 label.sk-toggleable__label-arrow:hover:before {color: black;}#sk-container-id-1 div.sk-estimator:hover label.sk-toggleable__label-arrow:before {color: black;}#sk-container-id-1 div.sk-toggleable__content {max-height: 0;max-width: 0;overflow: hidden;text-align: left;background-color: #f0f8ff;}#sk-container-id-1 div.sk-toggleable__content pre {margin: 0.2em;color: black;border-radius: 0.25em;background-color: #f0f8ff;}#sk-container-id-1 input.sk-toggleable__control:checked~div.sk-toggleable__content {max-height: 200px;max-width: 100%;overflow: auto;}#sk-container-id-1 input.sk-toggleable__control:checked~label.sk-toggleable__label-arrow:before {content: \"▾\";}#sk-container-id-1 div.sk-estimator input.sk-toggleable__control:checked~label.sk-toggleable__label {background-color: #d4ebff;}#sk-container-id-1 div.sk-label input.sk-toggleable__control:checked~label.sk-toggleable__label {background-color: #d4ebff;}#sk-container-id-1 input.sk-hidden--visually {border: 0;clip: rect(1px 1px 1px 1px);clip: rect(1px, 1px, 1px, 1px);height: 1px;margin: -1px;overflow: hidden;padding: 0;position: absolute;width: 1px;}#sk-container-id-1 div.sk-estimator {font-family: monospace;background-color: #f0f8ff;border: 1px dotted black;border-radius: 0.25em;box-sizing: border-box;margin-bottom: 0.5em;}#sk-container-id-1 div.sk-estimator:hover {background-color: #d4ebff;}#sk-container-id-1 div.sk-parallel-item::after {content: \"\";width: 100%;border-bottom: 1px solid gray;flex-grow: 1;}#sk-container-id-1 div.sk-label:hover label.sk-toggleable__label {background-color: #d4ebff;}#sk-container-id-1 div.sk-serial::before {content: \"\";position: absolute;border-left: 1px solid gray;box-sizing: border-box;top: 0;bottom: 0;left: 50%;z-index: 0;}#sk-container-id-1 div.sk-serial {display: flex;flex-direction: column;align-items: center;background-color: white;padding-right: 0.2em;padding-left: 0.2em;position: relative;}#sk-container-id-1 div.sk-item {position: relative;z-index: 1;}#sk-container-id-1 div.sk-parallel {display: flex;align-items: stretch;justify-content: center;background-color: white;position: relative;}#sk-container-id-1 div.sk-item::before, #sk-container-id-1 div.sk-parallel-item::before {content: \"\";position: absolute;border-left: 1px solid gray;box-sizing: border-box;top: 0;bottom: 0;left: 50%;z-index: -1;}#sk-container-id-1 div.sk-parallel-item {display: flex;flex-direction: column;z-index: 1;position: relative;background-color: white;}#sk-container-id-1 div.sk-parallel-item:first-child::after {align-self: flex-end;width: 50%;}#sk-container-id-1 div.sk-parallel-item:last-child::after {align-self: flex-start;width: 50%;}#sk-container-id-1 div.sk-parallel-item:only-child::after {width: 0;}#sk-container-id-1 div.sk-dashed-wrapped {border: 1px dashed gray;margin: 0 0.4em 0.5em 0.4em;box-sizing: border-box;padding-bottom: 0.4em;background-color: white;}#sk-container-id-1 div.sk-label label {font-family: monospace;font-weight: bold;display: inline-block;line-height: 1.2em;}#sk-container-id-1 div.sk-label-container {text-align: center;}#sk-container-id-1 div.sk-container {/* jupyter's `normalize.less` sets `[hidden] { display: none; }` but bootstrap.min.css set `[hidden] { display: none !important; }` so we also need the `!important` here to be able to override the default hidden behavior on the sphinx rendered scikit-learn.org. See: https://github.com/scikit-learn/scikit-learn/issues/21755 */display: inline-block !important;position: relative;}#sk-container-id-1 div.sk-text-repr-fallback {display: none;}</style><div id=\"sk-container-id-1\" class=\"sk-top-container\"><div class=\"sk-text-repr-fallback\"><pre>LinearRegression()</pre><b>In a Jupyter environment, please rerun this cell to show the HTML representation or trust the notebook. <br />On GitHub, the HTML representation is unable to render, please try loading this page with nbviewer.org.</b></div><div class=\"sk-container\" hidden><div class=\"sk-item\"><div class=\"sk-estimator sk-toggleable\"><input class=\"sk-toggleable__control sk-hidden--visually\" id=\"sk-estimator-id-1\" type=\"checkbox\" checked><label for=\"sk-estimator-id-1\" class=\"sk-toggleable__label sk-toggleable__label-arrow\">LinearRegression</label><div class=\"sk-toggleable__content\"><pre>LinearRegression()</pre></div></div></div></div></div>"
      ],
      "text/plain": [
       "LinearRegression()"
      ]
     },
     "execution_count": 17,
     "metadata": {},
     "output_type": "execute_result"
    }
   ],
   "source": [
    "line_fitter = LinearRegression()\n",
    "line_fitter.fit(X.values.reshape(-1,1), y)"
   ]
  },
  {
   "cell_type": "code",
   "execution_count": 22,
   "id": "98a1a5e2-fbc5-408a-b836-17e218ba1df9",
   "metadata": {
    "tags": []
   },
   "outputs": [
    {
     "name": "stdout",
     "output_type": "stream",
     "text": [
      "Collecting statsmodels\n",
      "  Downloading statsmodels-0.13.5-cp39-cp39-win_amd64.whl (9.2 MB)\n",
      "     ---------------------------------------- 9.2/9.2 MB 17.7 MB/s eta 0:00:00\n",
      "Requirement already satisfied: numpy>=1.17 in c:\\users\\pc\\.venv\\thired_day\\lib\\site-packages (from statsmodels) (1.23.5)\n",
      "Requirement already satisfied: packaging>=21.3 in c:\\users\\pc\\.venv\\thired_day\\lib\\site-packages (from statsmodels) (21.3)\n",
      "Requirement already satisfied: scipy>=1.3 in c:\\users\\pc\\.venv\\thired_day\\lib\\site-packages (from statsmodels) (1.9.3)\n",
      "Collecting patsy>=0.5.2\n",
      "  Downloading patsy-0.5.3-py2.py3-none-any.whl (233 kB)\n",
      "     ------------------------------------- 233.8/233.8 kB 14.9 MB/s eta 0:00:00\n",
      "Requirement already satisfied: pandas>=0.25 in c:\\users\\pc\\.venv\\thired_day\\lib\\site-packages (from statsmodels) (1.5.2)\n",
      "Requirement already satisfied: pyparsing!=3.0.5,>=2.0.2 in c:\\users\\pc\\.venv\\thired_day\\lib\\site-packages (from packaging>=21.3->statsmodels) (3.0.9)\n",
      "Requirement already satisfied: python-dateutil>=2.8.1 in c:\\users\\pc\\.venv\\thired_day\\lib\\site-packages (from pandas>=0.25->statsmodels) (2.8.2)\n",
      "Requirement already satisfied: pytz>=2020.1 in c:\\users\\pc\\.venv\\thired_day\\lib\\site-packages (from pandas>=0.25->statsmodels) (2022.6)\n",
      "Requirement already satisfied: six in c:\\users\\pc\\.venv\\thired_day\\lib\\site-packages (from patsy>=0.5.2->statsmodels) (1.16.0)\n",
      "Installing collected packages: patsy, statsmodels\n",
      "Successfully installed patsy-0.5.3 statsmodels-0.13.5\n"
     ]
    }
   ],
   "source": [
    "! pip install statsmodels"
   ]
  },
  {
   "cell_type": "code",
   "execution_count": 25,
   "id": "949b4579-02e4-4d05-9ccb-f6d1a821168a",
   "metadata": {
    "tags": []
   },
   "outputs": [],
   "source": [
    "# import statsmodel.api as sm\n",
    "import statsmodels.formula.api as sm"
   ]
  },
  {
   "cell_type": "code",
   "execution_count": 34,
   "id": "4c03d0c7-9251-42dd-8716-9c21b0480cc6",
   "metadata": {},
   "outputs": [
    {
     "name": "stdout",
     "output_type": "stream",
     "text": [
      "                            OLS Regression Results                            \n",
      "==============================================================================\n",
      "Dep. Variable:             청주연평균기온(℃)   R-squared:                       0.661\n",
      "Model:                            OLS   Adj. R-squared:                  0.650\n",
      "Method:                 Least Squares   F-statistic:                     62.28\n",
      "Date:                Thu, 08 Dec 2022   Prob (F-statistic):           5.27e-09\n",
      "Time:                        12:38:22   Log-Likelihood:                -17.186\n",
      "No. Observations:                  34   AIC:                             38.37\n",
      "Df Residuals:                      32   BIC:                             41.42\n",
      "Df Model:                           1                                         \n",
      "Covariance Type:            nonrobust                                         \n",
      "==============================================================================\n",
      "                 coef    std err          t      P>|t|      [0.025      0.975]\n",
      "------------------------------------------------------------------------------\n",
      "const         10.3185      0.351     29.356      0.000       9.603      11.034\n",
      "청주인구수       4.284e-06   5.43e-07      7.892      0.000    3.18e-06    5.39e-06\n",
      "==============================================================================\n",
      "Omnibus:                        1.873   Durbin-Watson:                   2.062\n",
      "Prob(Omnibus):                  0.392   Jarque-Bera (JB):                1.587\n",
      "Skew:                           0.387   Prob(JB):                        0.452\n",
      "Kurtosis:                       2.277   Cond. No.                     3.21e+06\n",
      "==============================================================================\n",
      "\n",
      "Notes:\n",
      "[1] Standard Errors assume that the covariance matrix of the errors is correctly specified.\n",
      "[2] The condition number is large, 3.21e+06. This might indicate that there are\n",
      "strong multicollinearity or other numerical problems.\n"
     ]
    }
   ],
   "source": [
    "import statsmodels.api as sm\n",
    "\n",
    "df = pd.DataFrame(df_cj) \n",
    "\n",
    "x = df[[\"청주인구수\"]]\n",
    "y = df[\"청주연평균기온(℃)\"]\n",
    "\n",
    "x = sm.add_constant(x)\n",
    "\n",
    "model = sm.OLS(y, x).fit()\n",
    "predictions = model.predict(x) \n",
    "\n",
    "print_model = model.summary()\n",
    "print(print_model)"
   ]
  },
  {
   "cell_type": "code",
   "execution_count": 37,
   "id": "ffec71e2-a602-423e-8df0-0738992171b6",
   "metadata": {
    "collapsed": true,
    "jupyter": {
     "outputs_hidden": true
    },
    "tags": []
   },
   "outputs": [
    {
     "data": {
      "text/html": [
       "<div>\n",
       "<style scoped>\n",
       "    .dataframe tbody tr th:only-of-type {\n",
       "        vertical-align: middle;\n",
       "    }\n",
       "\n",
       "    .dataframe tbody tr th {\n",
       "        vertical-align: top;\n",
       "    }\n",
       "\n",
       "    .dataframe thead th {\n",
       "        text-align: right;\n",
       "    }\n",
       "</style>\n",
       "<table border=\"1\" class=\"dataframe\">\n",
       "  <thead>\n",
       "    <tr style=\"text-align: right;\">\n",
       "      <th></th>\n",
       "      <th>원주연평균기온(℃)</th>\n",
       "      <th>원주인구수</th>\n",
       "      <th>원주산업체수</th>\n",
       "      <th>원주산업종사자수</th>\n",
       "      <th>원주일산화탄소량</th>\n",
       "    </tr>\n",
       "  </thead>\n",
       "  <tbody>\n",
       "    <tr>\n",
       "      <th>1988</th>\n",
       "      <td>10.6</td>\n",
       "      <td>161533</td>\n",
       "      <td>79.0</td>\n",
       "      <td>4060.0</td>\n",
       "      <td>NaN</td>\n",
       "    </tr>\n",
       "    <tr>\n",
       "      <th>1989</th>\n",
       "      <td>11.7</td>\n",
       "      <td>165956</td>\n",
       "      <td>78.0</td>\n",
       "      <td>3837.0</td>\n",
       "      <td>NaN</td>\n",
       "    </tr>\n",
       "    <tr>\n",
       "      <th>1990</th>\n",
       "      <td>11.7</td>\n",
       "      <td>173013</td>\n",
       "      <td>97.0</td>\n",
       "      <td>4966.0</td>\n",
       "      <td>NaN</td>\n",
       "    </tr>\n",
       "    <tr>\n",
       "      <th>1991</th>\n",
       "      <td>11.0</td>\n",
       "      <td>164975</td>\n",
       "      <td>132.0</td>\n",
       "      <td>5245.0</td>\n",
       "      <td>NaN</td>\n",
       "    </tr>\n",
       "    <tr>\n",
       "      <th>1992</th>\n",
       "      <td>11.1</td>\n",
       "      <td>171356</td>\n",
       "      <td>118.0</td>\n",
       "      <td>5530.0</td>\n",
       "      <td>NaN</td>\n",
       "    </tr>\n",
       "  </tbody>\n",
       "</table>\n",
       "</div>"
      ],
      "text/plain": [
       "      원주연평균기온(℃)   원주인구수  원주산업체수  원주산업종사자수  원주일산화탄소량\n",
       "1988        10.6  161533    79.0    4060.0       NaN\n",
       "1989        11.7  165956    78.0    3837.0       NaN\n",
       "1990        11.7  173013    97.0    4966.0       NaN\n",
       "1991        11.0  164975   132.0    5245.0       NaN\n",
       "1992        11.1  171356   118.0    5530.0       NaN"
      ]
     },
     "execution_count": 37,
     "metadata": {},
     "output_type": "execute_result"
    }
   ],
   "source": [
    "df_wj = pd.read_csv('data/원주_날씨_인구_산업_co.txt',index_col=0)\n",
    "df_wj.head()"
   ]
  },
  {
   "cell_type": "code",
   "execution_count": 39,
   "id": "8d7e4687-b8af-4575-a77f-646ac3b5541e",
   "metadata": {},
   "outputs": [
    {
     "name": "stdout",
     "output_type": "stream",
     "text": [
      "                            OLS Regression Results                            \n",
      "==============================================================================\n",
      "Dep. Variable:             원주연평균기온(℃)   R-squared:                       0.466\n",
      "Model:                            OLS   Adj. R-squared:                  0.450\n",
      "Method:                 Least Squares   F-statistic:                     27.95\n",
      "Date:                Thu, 08 Dec 2022   Prob (F-statistic):           8.63e-06\n",
      "Time:                        23:50:02   Log-Likelihood:                -28.502\n",
      "No. Observations:                  34   AIC:                             61.00\n",
      "Df Residuals:                      32   BIC:                             64.06\n",
      "Df Model:                           1                                         \n",
      "Covariance Type:            nonrobust                                         \n",
      "==============================================================================\n",
      "                 coef    std err          t      P>|t|      [0.025      0.975]\n",
      "------------------------------------------------------------------------------\n",
      "const          9.5819      0.452     21.189      0.000       8.661      10.503\n",
      "원주인구수       8.471e-06    1.6e-06      5.287      0.000    5.21e-06    1.17e-05\n",
      "==============================================================================\n",
      "Omnibus:                        1.277   Durbin-Watson:                   1.588\n",
      "Prob(Omnibus):                  0.528   Jarque-Bera (JB):                1.129\n",
      "Skew:                           0.268   Prob(JB):                        0.569\n",
      "Kurtosis:                       2.287   Cond. No.                     1.29e+06\n",
      "==============================================================================\n",
      "\n",
      "Notes:\n",
      "[1] Standard Errors assume that the covariance matrix of the errors is correctly specified.\n",
      "[2] The condition number is large, 1.29e+06. This might indicate that there are\n",
      "strong multicollinearity or other numerical problems.\n"
     ]
    }
   ],
   "source": [
    "df1 = pd.DataFrame(df_wj) \n",
    "\n",
    "x = df1[[\"원주인구수\"]]\n",
    "y = df1[\"원주연평균기온(℃)\"]\n",
    "\n",
    "x = sm.add_constant(x)\n",
    "\n",
    "model = sm.OLS(y, x).fit()\n",
    "predictions = model.predict(x) \n",
    "\n",
    "print_model = model.summary()\n",
    "print(print_model)"
   ]
  },
  {
   "cell_type": "code",
   "execution_count": 41,
   "id": "a148de73-5e03-4a4d-ac5c-b2583a24e391",
   "metadata": {
    "tags": []
   },
   "outputs": [
    {
     "data": {
      "text/html": [
       "<div>\n",
       "<style scoped>\n",
       "    .dataframe tbody tr th:only-of-type {\n",
       "        vertical-align: middle;\n",
       "    }\n",
       "\n",
       "    .dataframe tbody tr th {\n",
       "        vertical-align: top;\n",
       "    }\n",
       "\n",
       "    .dataframe thead th {\n",
       "        text-align: right;\n",
       "    }\n",
       "</style>\n",
       "<table border=\"1\" class=\"dataframe\">\n",
       "  <thead>\n",
       "    <tr style=\"text-align: right;\">\n",
       "      <th></th>\n",
       "      <th>제주연평균기온(℃)</th>\n",
       "      <th>제주인구수</th>\n",
       "      <th>제주산업체수</th>\n",
       "      <th>제주산업종사자수</th>\n",
       "      <th>제주일산화탄소량</th>\n",
       "    </tr>\n",
       "  </thead>\n",
       "  <tbody>\n",
       "    <tr>\n",
       "      <th>1988</th>\n",
       "      <td>15.2</td>\n",
       "      <td>223285</td>\n",
       "      <td>373.0</td>\n",
       "      <td>9498.0</td>\n",
       "      <td>NaN</td>\n",
       "    </tr>\n",
       "    <tr>\n",
       "      <th>1989</th>\n",
       "      <td>15.7</td>\n",
       "      <td>229815</td>\n",
       "      <td>374.0</td>\n",
       "      <td>9508.0</td>\n",
       "      <td>NaN</td>\n",
       "    </tr>\n",
       "    <tr>\n",
       "      <th>1990</th>\n",
       "      <td>16.4</td>\n",
       "      <td>232687</td>\n",
       "      <td>464.0</td>\n",
       "      <td>15474.0</td>\n",
       "      <td>NaN</td>\n",
       "    </tr>\n",
       "    <tr>\n",
       "      <th>1991</th>\n",
       "      <td>15.5</td>\n",
       "      <td>228665</td>\n",
       "      <td>485.0</td>\n",
       "      <td>15066.0</td>\n",
       "      <td>NaN</td>\n",
       "    </tr>\n",
       "    <tr>\n",
       "      <th>1992</th>\n",
       "      <td>15.9</td>\n",
       "      <td>237481</td>\n",
       "      <td>94.0</td>\n",
       "      <td>1817.0</td>\n",
       "      <td>NaN</td>\n",
       "    </tr>\n",
       "  </tbody>\n",
       "</table>\n",
       "</div>"
      ],
      "text/plain": [
       "      제주연평균기온(℃)   제주인구수  제주산업체수  제주산업종사자수  제주일산화탄소량\n",
       "1988        15.2  223285   373.0    9498.0       NaN\n",
       "1989        15.7  229815   374.0    9508.0       NaN\n",
       "1990        16.4  232687   464.0   15474.0       NaN\n",
       "1991        15.5  228665   485.0   15066.0       NaN\n",
       "1992        15.9  237481    94.0    1817.0       NaN"
      ]
     },
     "execution_count": 41,
     "metadata": {},
     "output_type": "execute_result"
    }
   ],
   "source": [
    "df_jj = pd.read_csv('data/제주_날씨_인구_산업_co.txt',index_col=0)\n",
    "df_jj.head()"
   ]
  },
  {
   "cell_type": "code",
   "execution_count": 47,
   "id": "773651d8-be18-4f48-9901-0bd545c1529c",
   "metadata": {},
   "outputs": [
    {
     "name": "stdout",
     "output_type": "stream",
     "text": [
      "                            OLS Regression Results                            \n",
      "==============================================================================\n",
      "Dep. Variable:             제주연평균기온(℃)   R-squared:                       0.315\n",
      "Model:                            OLS   Adj. R-squared:                  0.294\n",
      "Method:                 Least Squares   F-statistic:                     14.72\n",
      "Date:                Thu, 08 Dec 2022   Prob (F-statistic):           0.000552\n",
      "Time:                        23:52:43   Log-Likelihood:                -20.804\n",
      "No. Observations:                  34   AIC:                             45.61\n",
      "Df Residuals:                      32   BIC:                             48.66\n",
      "Df Model:                           1                                         \n",
      "Covariance Type:            nonrobust                                         \n",
      "==============================================================================\n",
      "                 coef    std err          t      P>|t|      [0.025      0.975]\n",
      "------------------------------------------------------------------------------\n",
      "const         15.0690      0.295     51.122      0.000      14.469      15.669\n",
      "제주인구수       3.122e-06   8.14e-07      3.837      0.001    1.46e-06    4.78e-06\n",
      "==============================================================================\n",
      "Omnibus:                        0.699   Durbin-Watson:                   1.443\n",
      "Prob(Omnibus):                  0.705   Jarque-Bera (JB):                0.544\n",
      "Skew:                           0.297   Prob(JB):                        0.762\n",
      "Kurtosis:                       2.822   Cond. No.                     1.35e+06\n",
      "==============================================================================\n",
      "\n",
      "Notes:\n",
      "[1] Standard Errors assume that the covariance matrix of the errors is correctly specified.\n",
      "[2] The condition number is large, 1.35e+06. This might indicate that there are\n",
      "strong multicollinearity or other numerical problems.\n"
     ]
    }
   ],
   "source": [
    "df2 = pd.DataFrame(df_jj) \n",
    "\n",
    "x = df2[[\"제주인구수\"]]\n",
    "y = df2[\"제주연평균기온(℃)\"]\n",
    "\n",
    "x = sm.add_constant(x)\n",
    "\n",
    "model = sm.OLS(y, x).fit()\n",
    "predictions = model.predict(x) \n",
    "\n",
    "print_model = model.summary()\n",
    "print(print_model)"
   ]
  },
  {
   "cell_type": "code",
   "execution_count": 44,
   "id": "9e7898be-e7b9-4970-b6b1-ec8671f33217",
   "metadata": {
    "collapsed": true,
    "jupyter": {
     "outputs_hidden": true
    },
    "tags": []
   },
   "outputs": [
    {
     "data": {
      "text/html": [
       "<div>\n",
       "<style scoped>\n",
       "    .dataframe tbody tr th:only-of-type {\n",
       "        vertical-align: middle;\n",
       "    }\n",
       "\n",
       "    .dataframe tbody tr th {\n",
       "        vertical-align: top;\n",
       "    }\n",
       "\n",
       "    .dataframe thead th {\n",
       "        text-align: right;\n",
       "    }\n",
       "</style>\n",
       "<table border=\"1\" class=\"dataframe\">\n",
       "  <thead>\n",
       "    <tr style=\"text-align: right;\">\n",
       "      <th></th>\n",
       "      <th>구미연평균기온(℃)</th>\n",
       "      <th>구미인구수</th>\n",
       "      <th>구미산업체수</th>\n",
       "      <th>구미산업종사자수</th>\n",
       "      <th>구미일산화탄소량</th>\n",
       "    </tr>\n",
       "  </thead>\n",
       "  <tbody>\n",
       "    <tr>\n",
       "      <th>1988</th>\n",
       "      <td>11.6</td>\n",
       "      <td>190132</td>\n",
       "      <td>359.0</td>\n",
       "      <td>69826.0</td>\n",
       "      <td>NaN</td>\n",
       "    </tr>\n",
       "    <tr>\n",
       "      <th>1989</th>\n",
       "      <td>12.2</td>\n",
       "      <td>202223</td>\n",
       "      <td>452.0</td>\n",
       "      <td>78936.0</td>\n",
       "      <td>NaN</td>\n",
       "    </tr>\n",
       "    <tr>\n",
       "      <th>1990</th>\n",
       "      <td>12.6</td>\n",
       "      <td>206101</td>\n",
       "      <td>640.0</td>\n",
       "      <td>84660.0</td>\n",
       "      <td>NaN</td>\n",
       "    </tr>\n",
       "    <tr>\n",
       "      <th>1991</th>\n",
       "      <td>11.9</td>\n",
       "      <td>187984</td>\n",
       "      <td>470.0</td>\n",
       "      <td>71036.0</td>\n",
       "      <td>NaN</td>\n",
       "    </tr>\n",
       "    <tr>\n",
       "      <th>1992</th>\n",
       "      <td>12.1</td>\n",
       "      <td>196816</td>\n",
       "      <td>522.0</td>\n",
       "      <td>80076.0</td>\n",
       "      <td>NaN</td>\n",
       "    </tr>\n",
       "  </tbody>\n",
       "</table>\n",
       "</div>"
      ],
      "text/plain": [
       "      구미연평균기온(℃)   구미인구수  구미산업체수  구미산업종사자수  구미일산화탄소량\n",
       "1988        11.6  190132   359.0   69826.0       NaN\n",
       "1989        12.2  202223   452.0   78936.0       NaN\n",
       "1990        12.6  206101   640.0   84660.0       NaN\n",
       "1991        11.9  187984   470.0   71036.0       NaN\n",
       "1992        12.1  196816   522.0   80076.0       NaN"
      ]
     },
     "execution_count": 44,
     "metadata": {},
     "output_type": "execute_result"
    }
   ],
   "source": [
    "df_gm = pd.read_csv('data/구미_날씨_인구_산업_co.txt',index_col=0)\n",
    "df_gm.head()"
   ]
  },
  {
   "cell_type": "code",
   "execution_count": 45,
   "id": "9623b170-961b-4738-a141-8e5644f6fece",
   "metadata": {},
   "outputs": [
    {
     "name": "stdout",
     "output_type": "stream",
     "text": [
      "                            OLS Regression Results                            \n",
      "==============================================================================\n",
      "Dep. Variable:             구미연평균기온(℃)   R-squared:                       0.602\n",
      "Model:                            OLS   Adj. R-squared:                  0.590\n",
      "Method:                 Least Squares   F-statistic:                     48.50\n",
      "Date:                Thu, 08 Dec 2022   Prob (F-statistic):           6.88e-08\n",
      "Time:                        23:52:04   Log-Likelihood:                -20.978\n",
      "No. Observations:                  34   AIC:                             45.96\n",
      "Df Residuals:                      32   BIC:                             49.01\n",
      "Df Model:                           1                                         \n",
      "Covariance Type:            nonrobust                                         \n",
      "==============================================================================\n",
      "                 coef    std err          t      P>|t|      [0.025      0.975]\n",
      "------------------------------------------------------------------------------\n",
      "const         10.6651      0.348     30.663      0.000       9.957      11.374\n",
      "구미인구수       6.845e-06   9.83e-07      6.964      0.000    4.84e-06    8.85e-06\n",
      "==============================================================================\n",
      "Omnibus:                        0.233   Durbin-Watson:                   1.633\n",
      "Prob(Omnibus):                  0.890   Jarque-Bera (JB):                0.431\n",
      "Skew:                          -0.081   Prob(JB):                        0.806\n",
      "Kurtosis:                       2.473   Cond. No.                     1.55e+06\n",
      "==============================================================================\n",
      "\n",
      "Notes:\n",
      "[1] Standard Errors assume that the covariance matrix of the errors is correctly specified.\n",
      "[2] The condition number is large, 1.55e+06. This might indicate that there are\n",
      "strong multicollinearity or other numerical problems.\n"
     ]
    }
   ],
   "source": [
    "df3 = pd.DataFrame(df_gm) \n",
    "\n",
    "x = df3[[\"구미인구수\"]]\n",
    "y = df3[\"구미연평균기온(℃)\"]\n",
    "\n",
    "x = sm.add_constant(x)\n",
    "\n",
    "model = sm.OLS(y, x).fit()\n",
    "predictions = model.predict(x) \n",
    "\n",
    "print_model = model.summary()\n",
    "print(print_model)"
   ]
  },
  {
   "cell_type": "markdown",
   "id": "bc73d2ae-e6d1-4ee5-ae3d-5e593993022d",
   "metadata": {},
   "source": [
    "https://datatofish.com/statsmodels-linear-regression/\n",
    "\n",
    "분석시 참조하면 좋을 듯."
   ]
  }
 ],
 "metadata": {
  "kernelspec": {
   "display_name": "Python 3 (ipykernel)",
   "language": "python",
   "name": "python3"
  },
  "language_info": {
   "codemirror_mode": {
    "name": "ipython",
    "version": 3
   },
   "file_extension": ".py",
   "mimetype": "text/x-python",
   "name": "python",
   "nbconvert_exporter": "python",
   "pygments_lexer": "ipython3",
   "version": "3.9.13"
  }
 },
 "nbformat": 4,
 "nbformat_minor": 5
}
